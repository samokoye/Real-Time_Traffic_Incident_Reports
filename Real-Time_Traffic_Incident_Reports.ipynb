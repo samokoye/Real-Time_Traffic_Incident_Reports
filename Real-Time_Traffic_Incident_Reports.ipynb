{
 "cells": [
  {
   "cell_type": "markdown",
   "id": "504b2c1c",
   "metadata": {},
   "source": [
    "This time series analysis hopes to find a coorelation between accident location, type of issue, time taken to resolve issue, time of day, day of week, and month of year. This will help predict when and where an accident is likely to happen."
   ]
  },
  {
   "cell_type": "markdown",
   "id": "6902ca81",
   "metadata": {},
   "source": [
    "# Import necessary libraries"
   ]
  },
  {
   "cell_type": "code",
   "execution_count": 146,
   "id": "8e130e51",
   "metadata": {},
   "outputs": [],
   "source": [
    "import pandas as pd\n",
    "import numpy as np\n",
    "\n",
    "import matplotlib.pyplot as plt\n",
    "import seaborn as sns\n",
    "from datetime import datetime\n",
    "\n",
    "#import descartes\n",
    "import geopandas as gpd\n",
    "#from shapely.geometry import Point, Polygon\n",
    "\n",
    "#%matplotlib inline\n"
   ]
  },
  {
   "cell_type": "markdown",
   "id": "564ec4fe",
   "metadata": {},
   "source": [
    "# Data Collection/Organization"
   ]
  },
  {
   "cell_type": "code",
   "execution_count": 19,
   "id": "6cc0f7cb",
   "metadata": {},
   "outputs": [],
   "source": [
    "file = 'Real-Time_Traffic_Incident_Reports.csv'\n"
   ]
  },
  {
   "cell_type": "code",
   "execution_count": 156,
   "id": "db84472f",
   "metadata": {},
   "outputs": [
    {
     "data": {
      "text/html": [
       "<div>\n",
       "<style scoped>\n",
       "    .dataframe tbody tr th:only-of-type {\n",
       "        vertical-align: middle;\n",
       "    }\n",
       "\n",
       "    .dataframe tbody tr th {\n",
       "        vertical-align: top;\n",
       "    }\n",
       "\n",
       "    .dataframe thead th {\n",
       "        text-align: right;\n",
       "    }\n",
       "</style>\n",
       "<table border=\"1\" class=\"dataframe\">\n",
       "  <thead>\n",
       "    <tr style=\"text-align: right;\">\n",
       "      <th></th>\n",
       "      <th>Traffic Report ID</th>\n",
       "      <th>Published Date</th>\n",
       "      <th>Issue Reported</th>\n",
       "      <th>Location</th>\n",
       "      <th>Latitude</th>\n",
       "      <th>Longitude</th>\n",
       "      <th>Address</th>\n",
       "      <th>Status</th>\n",
       "      <th>Status Date</th>\n",
       "    </tr>\n",
       "  </thead>\n",
       "  <tbody>\n",
       "    <tr>\n",
       "      <th>0</th>\n",
       "      <td>C163BCD1CF90C984E9EDA4DBA311BCA369A7D1A1_15288...</td>\n",
       "      <td>2018-06-13 06:35:59+00:00</td>\n",
       "      <td>Crash Service</td>\n",
       "      <td>(30.283797,-97.741906)</td>\n",
       "      <td>30.283797</td>\n",
       "      <td>-97.741906</td>\n",
       "      <td>W 21ST ST &amp; GUADALUPE ST</td>\n",
       "      <td>ARCHIVED</td>\n",
       "      <td>2018-06-13 09:00:03+00:00</td>\n",
       "    </tr>\n",
       "    <tr>\n",
       "      <th>1</th>\n",
       "      <td>6B20382196FB454E9FD06A33E60142902A2F0706_15288...</td>\n",
       "      <td>2018-06-13 10:15:36+00:00</td>\n",
       "      <td>Traffic Hazard</td>\n",
       "      <td>(30.339593,-97.700963)</td>\n",
       "      <td>30.339593</td>\n",
       "      <td>-97.700963</td>\n",
       "      <td>400-717 E ANDERSON LN EB</td>\n",
       "      <td>ARCHIVED</td>\n",
       "      <td>2018-06-13 11:20:03+00:00</td>\n",
       "    </tr>\n",
       "    <tr>\n",
       "      <th>2</th>\n",
       "      <td>2A7A84FC69D56A2C379C274D2F0831442D3E7B8E_15871...</td>\n",
       "      <td>2020-04-17 21:25:03+00:00</td>\n",
       "      <td>Crash Urgent</td>\n",
       "      <td>(30.329455,-97.638105)</td>\n",
       "      <td>30.329455</td>\n",
       "      <td>-97.638105</td>\n",
       "      <td>E US 290 HWY SVRD EB &amp; EASTERN HEIGHTS BLVD</td>\n",
       "      <td>ARCHIVED</td>\n",
       "      <td>2020-04-17 21:55:03+00:00</td>\n",
       "    </tr>\n",
       "    <tr>\n",
       "      <th>3</th>\n",
       "      <td>89D3B75BB5932F10D25B5852A9902DA26C3DF11A_15871...</td>\n",
       "      <td>2020-04-17 21:40:52+00:00</td>\n",
       "      <td>Traffic Hazard</td>\n",
       "      <td>(30.202806,-97.760701)</td>\n",
       "      <td>30.202806</td>\n",
       "      <td>-97.760701</td>\n",
       "      <td>5300-blk S Ih 35 Sb</td>\n",
       "      <td>ARCHIVED</td>\n",
       "      <td>2020-04-17 21:55:03+00:00</td>\n",
       "    </tr>\n",
       "    <tr>\n",
       "      <th>4</th>\n",
       "      <td>E7F9EFF0E81057A5C8FE41CABE4D9C6EEA82DAA0_15871...</td>\n",
       "      <td>2020-04-17 21:00:55+00:00</td>\n",
       "      <td>Crash Urgent</td>\n",
       "      <td>(30.184265,-97.687339)</td>\n",
       "      <td>30.184265</td>\n",
       "      <td>-97.687339</td>\n",
       "      <td>4500-4720 S Us 183 Hwy Sb</td>\n",
       "      <td>ARCHIVED</td>\n",
       "      <td>2020-04-17 23:30:04+00:00</td>\n",
       "    </tr>\n",
       "  </tbody>\n",
       "</table>\n",
       "</div>"
      ],
      "text/plain": [
       "                                   Traffic Report ID  \\\n",
       "0  C163BCD1CF90C984E9EDA4DBA311BCA369A7D1A1_15288...   \n",
       "1  6B20382196FB454E9FD06A33E60142902A2F0706_15288...   \n",
       "2  2A7A84FC69D56A2C379C274D2F0831442D3E7B8E_15871...   \n",
       "3  89D3B75BB5932F10D25B5852A9902DA26C3DF11A_15871...   \n",
       "4  E7F9EFF0E81057A5C8FE41CABE4D9C6EEA82DAA0_15871...   \n",
       "\n",
       "             Published Date  Issue Reported                Location  \\\n",
       "0 2018-06-13 06:35:59+00:00   Crash Service  (30.283797,-97.741906)   \n",
       "1 2018-06-13 10:15:36+00:00  Traffic Hazard  (30.339593,-97.700963)   \n",
       "2 2020-04-17 21:25:03+00:00    Crash Urgent  (30.329455,-97.638105)   \n",
       "3 2020-04-17 21:40:52+00:00  Traffic Hazard  (30.202806,-97.760701)   \n",
       "4 2020-04-17 21:00:55+00:00    Crash Urgent  (30.184265,-97.687339)   \n",
       "\n",
       "    Latitude  Longitude                                      Address  \\\n",
       "0  30.283797 -97.741906                     W 21ST ST & GUADALUPE ST   \n",
       "1  30.339593 -97.700963                     400-717 E ANDERSON LN EB   \n",
       "2  30.329455 -97.638105  E US 290 HWY SVRD EB & EASTERN HEIGHTS BLVD   \n",
       "3  30.202806 -97.760701                          5300-blk S Ih 35 Sb   \n",
       "4  30.184265 -97.687339                    4500-4720 S Us 183 Hwy Sb   \n",
       "\n",
       "     Status               Status Date  \n",
       "0  ARCHIVED 2018-06-13 09:00:03+00:00  \n",
       "1  ARCHIVED 2018-06-13 11:20:03+00:00  \n",
       "2  ARCHIVED 2020-04-17 21:55:03+00:00  \n",
       "3  ARCHIVED 2020-04-17 21:55:03+00:00  \n",
       "4  ARCHIVED 2020-04-17 23:30:04+00:00  "
      ]
     },
     "execution_count": 156,
     "metadata": {},
     "output_type": "execute_result"
    }
   ],
   "source": [
    "\n",
    "df = pd.read_csv(file, parse_dates=['Published Date', 'Status Date'])\n",
    "\n",
    "df.head()\n",
    "#I wanted to see what the data looked like in pandas. \n"
   ]
  },
  {
   "cell_type": "code",
   "execution_count": 157,
   "id": "ad5f3eaf",
   "metadata": {},
   "outputs": [],
   "source": [
    "#df = raw_orginal.copy()\n"
   ]
  },
  {
   "cell_type": "markdown",
   "id": "8f9335a0",
   "metadata": {},
   "source": [
    "# Data Wrangling"
   ]
  },
  {
   "cell_type": "markdown",
   "id": "5332f4d7",
   "metadata": {},
   "source": [
    "The column names have spaces in them. This will prove to be a problem with creating visualizations later so I'm going to change the variable names for the applicable columns."
   ]
  },
  {
   "cell_type": "code",
   "execution_count": 158,
   "id": "de50e883",
   "metadata": {},
   "outputs": [
    {
     "data": {
      "text/html": [
       "<div>\n",
       "<style scoped>\n",
       "    .dataframe tbody tr th:only-of-type {\n",
       "        vertical-align: middle;\n",
       "    }\n",
       "\n",
       "    .dataframe tbody tr th {\n",
       "        vertical-align: top;\n",
       "    }\n",
       "\n",
       "    .dataframe thead th {\n",
       "        text-align: right;\n",
       "    }\n",
       "</style>\n",
       "<table border=\"1\" class=\"dataframe\">\n",
       "  <thead>\n",
       "    <tr style=\"text-align: right;\">\n",
       "      <th></th>\n",
       "      <th>tr_ID</th>\n",
       "      <th>published_date</th>\n",
       "      <th>issue_reported</th>\n",
       "      <th>Location</th>\n",
       "      <th>Latitude</th>\n",
       "      <th>Longitude</th>\n",
       "      <th>Address</th>\n",
       "      <th>Status</th>\n",
       "      <th>status_date</th>\n",
       "    </tr>\n",
       "  </thead>\n",
       "  <tbody>\n",
       "    <tr>\n",
       "      <th>0</th>\n",
       "      <td>C163BCD1CF90C984E9EDA4DBA311BCA369A7D1A1_15288...</td>\n",
       "      <td>2018-06-13 06:35:59+00:00</td>\n",
       "      <td>Crash Service</td>\n",
       "      <td>(30.283797,-97.741906)</td>\n",
       "      <td>30.283797</td>\n",
       "      <td>-97.741906</td>\n",
       "      <td>W 21ST ST &amp; GUADALUPE ST</td>\n",
       "      <td>ARCHIVED</td>\n",
       "      <td>2018-06-13 09:00:03+00:00</td>\n",
       "    </tr>\n",
       "    <tr>\n",
       "      <th>1</th>\n",
       "      <td>6B20382196FB454E9FD06A33E60142902A2F0706_15288...</td>\n",
       "      <td>2018-06-13 10:15:36+00:00</td>\n",
       "      <td>Traffic Hazard</td>\n",
       "      <td>(30.339593,-97.700963)</td>\n",
       "      <td>30.339593</td>\n",
       "      <td>-97.700963</td>\n",
       "      <td>400-717 E ANDERSON LN EB</td>\n",
       "      <td>ARCHIVED</td>\n",
       "      <td>2018-06-13 11:20:03+00:00</td>\n",
       "    </tr>\n",
       "    <tr>\n",
       "      <th>2</th>\n",
       "      <td>2A7A84FC69D56A2C379C274D2F0831442D3E7B8E_15871...</td>\n",
       "      <td>2020-04-17 21:25:03+00:00</td>\n",
       "      <td>Crash Urgent</td>\n",
       "      <td>(30.329455,-97.638105)</td>\n",
       "      <td>30.329455</td>\n",
       "      <td>-97.638105</td>\n",
       "      <td>E US 290 HWY SVRD EB &amp; EASTERN HEIGHTS BLVD</td>\n",
       "      <td>ARCHIVED</td>\n",
       "      <td>2020-04-17 21:55:03+00:00</td>\n",
       "    </tr>\n",
       "    <tr>\n",
       "      <th>3</th>\n",
       "      <td>89D3B75BB5932F10D25B5852A9902DA26C3DF11A_15871...</td>\n",
       "      <td>2020-04-17 21:40:52+00:00</td>\n",
       "      <td>Traffic Hazard</td>\n",
       "      <td>(30.202806,-97.760701)</td>\n",
       "      <td>30.202806</td>\n",
       "      <td>-97.760701</td>\n",
       "      <td>5300-blk S Ih 35 Sb</td>\n",
       "      <td>ARCHIVED</td>\n",
       "      <td>2020-04-17 21:55:03+00:00</td>\n",
       "    </tr>\n",
       "    <tr>\n",
       "      <th>4</th>\n",
       "      <td>E7F9EFF0E81057A5C8FE41CABE4D9C6EEA82DAA0_15871...</td>\n",
       "      <td>2020-04-17 21:00:55+00:00</td>\n",
       "      <td>Crash Urgent</td>\n",
       "      <td>(30.184265,-97.687339)</td>\n",
       "      <td>30.184265</td>\n",
       "      <td>-97.687339</td>\n",
       "      <td>4500-4720 S Us 183 Hwy Sb</td>\n",
       "      <td>ARCHIVED</td>\n",
       "      <td>2020-04-17 23:30:04+00:00</td>\n",
       "    </tr>\n",
       "  </tbody>\n",
       "</table>\n",
       "</div>"
      ],
      "text/plain": [
       "                                               tr_ID  \\\n",
       "0  C163BCD1CF90C984E9EDA4DBA311BCA369A7D1A1_15288...   \n",
       "1  6B20382196FB454E9FD06A33E60142902A2F0706_15288...   \n",
       "2  2A7A84FC69D56A2C379C274D2F0831442D3E7B8E_15871...   \n",
       "3  89D3B75BB5932F10D25B5852A9902DA26C3DF11A_15871...   \n",
       "4  E7F9EFF0E81057A5C8FE41CABE4D9C6EEA82DAA0_15871...   \n",
       "\n",
       "             published_date  issue_reported                Location  \\\n",
       "0 2018-06-13 06:35:59+00:00   Crash Service  (30.283797,-97.741906)   \n",
       "1 2018-06-13 10:15:36+00:00  Traffic Hazard  (30.339593,-97.700963)   \n",
       "2 2020-04-17 21:25:03+00:00    Crash Urgent  (30.329455,-97.638105)   \n",
       "3 2020-04-17 21:40:52+00:00  Traffic Hazard  (30.202806,-97.760701)   \n",
       "4 2020-04-17 21:00:55+00:00    Crash Urgent  (30.184265,-97.687339)   \n",
       "\n",
       "    Latitude  Longitude                                      Address  \\\n",
       "0  30.283797 -97.741906                     W 21ST ST & GUADALUPE ST   \n",
       "1  30.339593 -97.700963                     400-717 E ANDERSON LN EB   \n",
       "2  30.329455 -97.638105  E US 290 HWY SVRD EB & EASTERN HEIGHTS BLVD   \n",
       "3  30.202806 -97.760701                          5300-blk S Ih 35 Sb   \n",
       "4  30.184265 -97.687339                    4500-4720 S Us 183 Hwy Sb   \n",
       "\n",
       "     Status               status_date  \n",
       "0  ARCHIVED 2018-06-13 09:00:03+00:00  \n",
       "1  ARCHIVED 2018-06-13 11:20:03+00:00  \n",
       "2  ARCHIVED 2020-04-17 21:55:03+00:00  \n",
       "3  ARCHIVED 2020-04-17 21:55:03+00:00  \n",
       "4  ARCHIVED 2020-04-17 23:30:04+00:00  "
      ]
     },
     "execution_count": 158,
     "metadata": {},
     "output_type": "execute_result"
    }
   ],
   "source": [
    "df=df.rename(columns = {'Published Date':'published_date'})\n",
    "df=df.rename(columns = {'Status Date':'status_date'})\n",
    "df=df.rename(columns = {'Issue Reported':'issue_reported'})\n",
    "df=df.rename(columns = {'Traffic Report ID':'tr_ID'})\n",
    "df.head()"
   ]
  },
  {
   "cell_type": "markdown",
   "id": "066c88c6",
   "metadata": {},
   "source": [
    "Exploring the Data and Converting Datatypes"
   ]
  },
  {
   "cell_type": "code",
   "execution_count": 159,
   "id": "142cb212",
   "metadata": {},
   "outputs": [
    {
     "data": {
      "text/plain": [
       "(249650, 9)"
      ]
     },
     "execution_count": 159,
     "metadata": {},
     "output_type": "execute_result"
    }
   ],
   "source": [
    "df.shape\n",
    "#big enough"
   ]
  },
  {
   "cell_type": "markdown",
   "id": "6b948103",
   "metadata": {},
   "source": [
    "There are 249,650 rows and 9 columns"
   ]
  },
  {
   "cell_type": "code",
   "execution_count": 160,
   "id": "8bcc17e4",
   "metadata": {},
   "outputs": [
    {
     "data": {
      "text/html": [
       "<div>\n",
       "<style scoped>\n",
       "    .dataframe tbody tr th:only-of-type {\n",
       "        vertical-align: middle;\n",
       "    }\n",
       "\n",
       "    .dataframe tbody tr th {\n",
       "        vertical-align: top;\n",
       "    }\n",
       "\n",
       "    .dataframe thead th {\n",
       "        text-align: right;\n",
       "    }\n",
       "</style>\n",
       "<table border=\"1\" class=\"dataframe\">\n",
       "  <thead>\n",
       "    <tr style=\"text-align: right;\">\n",
       "      <th></th>\n",
       "      <th>Longitude</th>\n",
       "    </tr>\n",
       "  </thead>\n",
       "  <tbody>\n",
       "    <tr>\n",
       "      <th>count</th>\n",
       "      <td>249571.000000</td>\n",
       "    </tr>\n",
       "    <tr>\n",
       "      <th>mean</th>\n",
       "      <td>-97.551690</td>\n",
       "    </tr>\n",
       "    <tr>\n",
       "      <th>std</th>\n",
       "      <td>4.211096</td>\n",
       "    </tr>\n",
       "    <tr>\n",
       "      <th>min</th>\n",
       "      <td>-98.816154</td>\n",
       "    </tr>\n",
       "    <tr>\n",
       "      <th>25%</th>\n",
       "      <td>-97.776950</td>\n",
       "    </tr>\n",
       "    <tr>\n",
       "      <th>50%</th>\n",
       "      <td>-97.734295</td>\n",
       "    </tr>\n",
       "    <tr>\n",
       "      <th>75%</th>\n",
       "      <td>-97.687038</td>\n",
       "    </tr>\n",
       "    <tr>\n",
       "      <th>max</th>\n",
       "      <td>0.000000</td>\n",
       "    </tr>\n",
       "  </tbody>\n",
       "</table>\n",
       "</div>"
      ],
      "text/plain": [
       "           Longitude\n",
       "count  249571.000000\n",
       "mean      -97.551690\n",
       "std         4.211096\n",
       "min       -98.816154\n",
       "25%       -97.776950\n",
       "50%       -97.734295\n",
       "75%       -97.687038\n",
       "max         0.000000"
      ]
     },
     "execution_count": 160,
     "metadata": {},
     "output_type": "execute_result"
    }
   ],
   "source": [
    "df.describe()\n",
    "#I assume I only get one column because it's the only numerical data type(float)"
   ]
  },
  {
   "cell_type": "markdown",
   "id": "c4326538",
   "metadata": {},
   "source": [
    "# Data definition"
   ]
  },
  {
   "cell_type": "code",
   "execution_count": 164,
   "id": "55edc7f2",
   "metadata": {},
   "outputs": [
    {
     "name": "stdout",
     "output_type": "stream",
     "text": [
      "<class 'pandas.core.frame.DataFrame'>\n",
      "RangeIndex: 249650 entries, 0 to 249649\n",
      "Data columns (total 9 columns):\n",
      " #   Column          Non-Null Count   Dtype              \n",
      "---  ------          --------------   -----              \n",
      " 0   tr_ID           249650 non-null  object             \n",
      " 1   published_date  249650 non-null  datetime64[ns, UTC]\n",
      " 2   issue_reported  249650 non-null  object             \n",
      " 3   Location        249107 non-null  object             \n",
      " 4   Latitude        249525 non-null  float64            \n",
      " 5   Longitude       249571 non-null  float64            \n",
      " 6   Address         249650 non-null  object             \n",
      " 7   Status          247957 non-null  object             \n",
      " 8   status_date     249650 non-null  datetime64[ns, UTC]\n",
      "dtypes: datetime64[ns, UTC](2), float64(2), object(5)\n",
      "memory usage: 17.1+ MB\n"
     ]
    }
   ],
   "source": [
    "df['Latitude'] = pd.to_numeric(df['Latitude'], errors = 'coerce') #Converting Latitude to numeric(float)\n",
    "df.info()\n",
    "#I also changed published/status date to datetime objects from string"
   ]
  },
  {
   "cell_type": "code",
   "execution_count": null,
   "id": "37f04d12",
   "metadata": {},
   "outputs": [],
   "source": []
  },
  {
   "cell_type": "code",
   "execution_count": 162,
   "id": "d4095a2a",
   "metadata": {},
   "outputs": [
    {
     "data": {
      "text/html": [
       "<div>\n",
       "<style scoped>\n",
       "    .dataframe tbody tr th:only-of-type {\n",
       "        vertical-align: middle;\n",
       "    }\n",
       "\n",
       "    .dataframe tbody tr th {\n",
       "        vertical-align: top;\n",
       "    }\n",
       "\n",
       "    .dataframe thead th {\n",
       "        text-align: right;\n",
       "    }\n",
       "</style>\n",
       "<table border=\"1\" class=\"dataframe\">\n",
       "  <thead>\n",
       "    <tr style=\"text-align: right;\">\n",
       "      <th></th>\n",
       "      <th>count</th>\n",
       "      <th>%</th>\n",
       "    </tr>\n",
       "  </thead>\n",
       "  <tbody>\n",
       "    <tr>\n",
       "      <th>tr_ID</th>\n",
       "      <td>0</td>\n",
       "      <td>0.000000</td>\n",
       "    </tr>\n",
       "    <tr>\n",
       "      <th>published_date</th>\n",
       "      <td>0</td>\n",
       "      <td>0.000000</td>\n",
       "    </tr>\n",
       "    <tr>\n",
       "      <th>issue_reported</th>\n",
       "      <td>0</td>\n",
       "      <td>0.000000</td>\n",
       "    </tr>\n",
       "    <tr>\n",
       "      <th>Address</th>\n",
       "      <td>0</td>\n",
       "      <td>0.000000</td>\n",
       "    </tr>\n",
       "    <tr>\n",
       "      <th>status_date</th>\n",
       "      <td>0</td>\n",
       "      <td>0.000000</td>\n",
       "    </tr>\n",
       "    <tr>\n",
       "      <th>Longitude</th>\n",
       "      <td>79</td>\n",
       "      <td>0.031644</td>\n",
       "    </tr>\n",
       "    <tr>\n",
       "      <th>Latitude</th>\n",
       "      <td>125</td>\n",
       "      <td>0.050070</td>\n",
       "    </tr>\n",
       "    <tr>\n",
       "      <th>Location</th>\n",
       "      <td>543</td>\n",
       "      <td>0.217505</td>\n",
       "    </tr>\n",
       "    <tr>\n",
       "      <th>Status</th>\n",
       "      <td>1693</td>\n",
       "      <td>0.678149</td>\n",
       "    </tr>\n",
       "  </tbody>\n",
       "</table>\n",
       "</div>"
      ],
      "text/plain": [
       "                count         %\n",
       "tr_ID               0  0.000000\n",
       "published_date      0  0.000000\n",
       "issue_reported      0  0.000000\n",
       "Address             0  0.000000\n",
       "status_date         0  0.000000\n",
       "Longitude          79  0.031644\n",
       "Latitude          125  0.050070\n",
       "Location          543  0.217505\n",
       "Status           1693  0.678149"
      ]
     },
     "execution_count": 162,
     "metadata": {},
     "output_type": "execute_result"
    }
   ],
   "source": [
    "missing = pd.concat([df.isnull().sum(), 100 * df.isnull().mean()], axis=1)\n",
    "missing.columns=['count', '%']\n",
    "missing.sort_values(by='count')\n"
   ]
  },
  {
   "cell_type": "code",
   "execution_count": 168,
   "id": "3c0169a5",
   "metadata": {},
   "outputs": [],
   "source": [
    "#The columns are missing some values are:\n",
    "#Longitude - 3%\n",
    "#Latitude - 5%\n",
    "#Location - 21%, This will be dropped later as it is redundant and has more null values\n",
    "#Status - 67%, This column will not be used for this analysis, it only inidicates whether a incident is archived or \n",
    "#not. Everything in this dataset is archived."
   ]
  },
  {
   "cell_type": "code",
   "execution_count": 170,
   "id": "18077c8c",
   "metadata": {},
   "outputs": [],
   "source": [
    "df.dropna(subset=['Latitude'],inplace=True)\n",
    "df.dropna(subset=['Longitude'],inplace=True)\n",
    "#Dropping null values in the above columns"
   ]
  },
  {
   "cell_type": "markdown",
   "id": "23bd4592",
   "metadata": {},
   "source": [
    "### Recheck the null values"
   ]
  },
  {
   "cell_type": "code",
   "execution_count": 171,
   "id": "dd6b3441",
   "metadata": {},
   "outputs": [
    {
     "data": {
      "text/html": [
       "<div>\n",
       "<style scoped>\n",
       "    .dataframe tbody tr th:only-of-type {\n",
       "        vertical-align: middle;\n",
       "    }\n",
       "\n",
       "    .dataframe tbody tr th {\n",
       "        vertical-align: top;\n",
       "    }\n",
       "\n",
       "    .dataframe thead th {\n",
       "        text-align: right;\n",
       "    }\n",
       "</style>\n",
       "<table border=\"1\" class=\"dataframe\">\n",
       "  <thead>\n",
       "    <tr style=\"text-align: right;\">\n",
       "      <th></th>\n",
       "      <th>count</th>\n",
       "      <th>%</th>\n",
       "    </tr>\n",
       "  </thead>\n",
       "  <tbody>\n",
       "    <tr>\n",
       "      <th>tr_ID</th>\n",
       "      <td>0</td>\n",
       "      <td>0.000000</td>\n",
       "    </tr>\n",
       "    <tr>\n",
       "      <th>published_date</th>\n",
       "      <td>0</td>\n",
       "      <td>0.000000</td>\n",
       "    </tr>\n",
       "    <tr>\n",
       "      <th>issue_reported</th>\n",
       "      <td>0</td>\n",
       "      <td>0.000000</td>\n",
       "    </tr>\n",
       "    <tr>\n",
       "      <th>Latitude</th>\n",
       "      <td>0</td>\n",
       "      <td>0.000000</td>\n",
       "    </tr>\n",
       "    <tr>\n",
       "      <th>Longitude</th>\n",
       "      <td>0</td>\n",
       "      <td>0.000000</td>\n",
       "    </tr>\n",
       "    <tr>\n",
       "      <th>Address</th>\n",
       "      <td>0</td>\n",
       "      <td>0.000000</td>\n",
       "    </tr>\n",
       "    <tr>\n",
       "      <th>status_date</th>\n",
       "      <td>0</td>\n",
       "      <td>0.000000</td>\n",
       "    </tr>\n",
       "    <tr>\n",
       "      <th>Location</th>\n",
       "      <td>464</td>\n",
       "      <td>0.185953</td>\n",
       "    </tr>\n",
       "    <tr>\n",
       "      <th>Status</th>\n",
       "      <td>1691</td>\n",
       "      <td>0.677688</td>\n",
       "    </tr>\n",
       "  </tbody>\n",
       "</table>\n",
       "</div>"
      ],
      "text/plain": [
       "                count         %\n",
       "tr_ID               0  0.000000\n",
       "published_date      0  0.000000\n",
       "issue_reported      0  0.000000\n",
       "Latitude            0  0.000000\n",
       "Longitude           0  0.000000\n",
       "Address             0  0.000000\n",
       "status_date         0  0.000000\n",
       "Location          464  0.185953\n",
       "Status           1691  0.677688"
      ]
     },
     "execution_count": 171,
     "metadata": {},
     "output_type": "execute_result"
    }
   ],
   "source": [
    "missing = pd.concat([df.isnull().sum(), 100 * df.isnull().mean()], axis=1)\n",
    "missing.columns=['count', '%']\n",
    "missing.sort_values(by='count')\n"
   ]
  },
  {
   "cell_type": "markdown",
   "id": "892a0dba",
   "metadata": {},
   "source": [
    "So I thought it may be better to create a new location variable as a float but there were far too many null values for the new split 'Location\" data. Instances of null in Latitude increased by 46. I place inplace+True to solve.\n",
    "\n",
    "Status can likely be removed entirely as it does not really serve a purpose."
   ]
  },
  {
   "cell_type": "markdown",
   "id": "2a82d5ae",
   "metadata": {},
   "source": [
    "I'm dropping location becasue attempts to split and convert into float datatype created too many null values to be useful. Also, I already have Lat/Lon data to use."
   ]
  },
  {
   "cell_type": "code",
   "execution_count": 176,
   "id": "f28e05d5",
   "metadata": {},
   "outputs": [
    {
     "data": {
      "text/html": [
       "<div>\n",
       "<style scoped>\n",
       "    .dataframe tbody tr th:only-of-type {\n",
       "        vertical-align: middle;\n",
       "    }\n",
       "\n",
       "    .dataframe tbody tr th {\n",
       "        vertical-align: top;\n",
       "    }\n",
       "\n",
       "    .dataframe thead th {\n",
       "        text-align: right;\n",
       "    }\n",
       "</style>\n",
       "<table border=\"1\" class=\"dataframe\">\n",
       "  <thead>\n",
       "    <tr style=\"text-align: right;\">\n",
       "      <th></th>\n",
       "      <th>tr_ID</th>\n",
       "      <th>published_date</th>\n",
       "      <th>issue_reported</th>\n",
       "      <th>Latitude</th>\n",
       "      <th>Longitude</th>\n",
       "      <th>Address</th>\n",
       "      <th>status_date</th>\n",
       "    </tr>\n",
       "  </thead>\n",
       "  <tbody>\n",
       "    <tr>\n",
       "      <th>0</th>\n",
       "      <td>C163BCD1CF90C984E9EDA4DBA311BCA369A7D1A1_15288...</td>\n",
       "      <td>2018-06-13 06:35:59+00:00</td>\n",
       "      <td>Crash Service</td>\n",
       "      <td>30.283797</td>\n",
       "      <td>-97.741906</td>\n",
       "      <td>W 21ST ST &amp; GUADALUPE ST</td>\n",
       "      <td>2018-06-13 09:00:03+00:00</td>\n",
       "    </tr>\n",
       "    <tr>\n",
       "      <th>1</th>\n",
       "      <td>6B20382196FB454E9FD06A33E60142902A2F0706_15288...</td>\n",
       "      <td>2018-06-13 10:15:36+00:00</td>\n",
       "      <td>Traffic Hazard</td>\n",
       "      <td>30.339593</td>\n",
       "      <td>-97.700963</td>\n",
       "      <td>400-717 E ANDERSON LN EB</td>\n",
       "      <td>2018-06-13 11:20:03+00:00</td>\n",
       "    </tr>\n",
       "    <tr>\n",
       "      <th>2</th>\n",
       "      <td>2A7A84FC69D56A2C379C274D2F0831442D3E7B8E_15871...</td>\n",
       "      <td>2020-04-17 21:25:03+00:00</td>\n",
       "      <td>Crash Urgent</td>\n",
       "      <td>30.329455</td>\n",
       "      <td>-97.638105</td>\n",
       "      <td>E US 290 HWY SVRD EB &amp; EASTERN HEIGHTS BLVD</td>\n",
       "      <td>2020-04-17 21:55:03+00:00</td>\n",
       "    </tr>\n",
       "  </tbody>\n",
       "</table>\n",
       "</div>"
      ],
      "text/plain": [
       "                                               tr_ID  \\\n",
       "0  C163BCD1CF90C984E9EDA4DBA311BCA369A7D1A1_15288...   \n",
       "1  6B20382196FB454E9FD06A33E60142902A2F0706_15288...   \n",
       "2  2A7A84FC69D56A2C379C274D2F0831442D3E7B8E_15871...   \n",
       "\n",
       "             published_date  issue_reported   Latitude  Longitude  \\\n",
       "0 2018-06-13 06:35:59+00:00   Crash Service  30.283797 -97.741906   \n",
       "1 2018-06-13 10:15:36+00:00  Traffic Hazard  30.339593 -97.700963   \n",
       "2 2020-04-17 21:25:03+00:00    Crash Urgent  30.329455 -97.638105   \n",
       "\n",
       "                                       Address               status_date  \n",
       "0                     W 21ST ST & GUADALUPE ST 2018-06-13 09:00:03+00:00  \n",
       "1                     400-717 E ANDERSON LN EB 2018-06-13 11:20:03+00:00  \n",
       "2  E US 290 HWY SVRD EB & EASTERN HEIGHTS BLVD 2020-04-17 21:55:03+00:00  "
      ]
     },
     "execution_count": 176,
     "metadata": {},
     "output_type": "execute_result"
    }
   ],
   "source": [
    "df.drop(['Location'], axis=1, inplace=True) #(use this is Location show back up)\n",
    "df.drop(['Status'], axis=1, inplace=True)\n",
    "df.head(3)\n"
   ]
  },
  {
   "cell_type": "code",
   "execution_count": 178,
   "id": "ec65b16a",
   "metadata": {},
   "outputs": [
    {
     "data": {
      "text/html": [
       "<div>\n",
       "<style scoped>\n",
       "    .dataframe tbody tr th:only-of-type {\n",
       "        vertical-align: middle;\n",
       "    }\n",
       "\n",
       "    .dataframe tbody tr th {\n",
       "        vertical-align: top;\n",
       "    }\n",
       "\n",
       "    .dataframe thead th {\n",
       "        text-align: right;\n",
       "    }\n",
       "</style>\n",
       "<table border=\"1\" class=\"dataframe\">\n",
       "  <thead>\n",
       "    <tr style=\"text-align: right;\">\n",
       "      <th></th>\n",
       "      <th>issue_reported</th>\n",
       "      <th>published_date</th>\n",
       "      <th>status_date</th>\n",
       "    </tr>\n",
       "  </thead>\n",
       "  <tbody>\n",
       "    <tr>\n",
       "      <th>0</th>\n",
       "      <td>Crash Service</td>\n",
       "      <td>2018-06-13 06:35:59+00:00</td>\n",
       "      <td>2018-06-13 09:00:03+00:00</td>\n",
       "    </tr>\n",
       "    <tr>\n",
       "      <th>1</th>\n",
       "      <td>Traffic Hazard</td>\n",
       "      <td>2018-06-13 10:15:36+00:00</td>\n",
       "      <td>2018-06-13 11:20:03+00:00</td>\n",
       "    </tr>\n",
       "    <tr>\n",
       "      <th>2</th>\n",
       "      <td>Crash Urgent</td>\n",
       "      <td>2020-04-17 21:25:03+00:00</td>\n",
       "      <td>2020-04-17 21:55:03+00:00</td>\n",
       "    </tr>\n",
       "    <tr>\n",
       "      <th>3</th>\n",
       "      <td>Traffic Hazard</td>\n",
       "      <td>2020-04-17 21:40:52+00:00</td>\n",
       "      <td>2020-04-17 21:55:03+00:00</td>\n",
       "    </tr>\n",
       "    <tr>\n",
       "      <th>4</th>\n",
       "      <td>Crash Urgent</td>\n",
       "      <td>2020-04-17 21:00:55+00:00</td>\n",
       "      <td>2020-04-17 23:30:04+00:00</td>\n",
       "    </tr>\n",
       "  </tbody>\n",
       "</table>\n",
       "</div>"
      ],
      "text/plain": [
       "   issue_reported            published_date               status_date\n",
       "0   Crash Service 2018-06-13 06:35:59+00:00 2018-06-13 09:00:03+00:00\n",
       "1  Traffic Hazard 2018-06-13 10:15:36+00:00 2018-06-13 11:20:03+00:00\n",
       "2    Crash Urgent 2020-04-17 21:25:03+00:00 2020-04-17 21:55:03+00:00\n",
       "3  Traffic Hazard 2020-04-17 21:40:52+00:00 2020-04-17 21:55:03+00:00\n",
       "4    Crash Urgent 2020-04-17 21:00:55+00:00 2020-04-17 23:30:04+00:00"
      ]
     },
     "execution_count": 178,
     "metadata": {},
     "output_type": "execute_result"
    }
   ],
   "source": [
    "issue_date = df[['issue_reported', 'published_date', 'status_date']]\n",
    "issue_date.head()\n"
   ]
  },
  {
   "cell_type": "markdown",
   "id": "4456dec2",
   "metadata": {},
   "source": [
    "Subtracting the published date from the status date will help find out how long these issues take to resolve which will be useful in helping avoid parts of town. The date and time are listed together, which may come in handy when classifying the severity of issues, but the date and time values will have to be seperated when we try to decipher seasonal and time of day data. \n",
    "\n",
    "Changing the date columns from strings to date objects and creating a new column called issue timespan by subtracting published date from status date. There is a breakdown of different time measures for this columns in different columns."
   ]
  },
  {
   "cell_type": "code",
   "execution_count": 208,
   "id": "45f279a7",
   "metadata": {},
   "outputs": [
    {
     "data": {
      "text/html": [
       "<div>\n",
       "<style scoped>\n",
       "    .dataframe tbody tr th:only-of-type {\n",
       "        vertical-align: middle;\n",
       "    }\n",
       "\n",
       "    .dataframe tbody tr th {\n",
       "        vertical-align: top;\n",
       "    }\n",
       "\n",
       "    .dataframe thead th {\n",
       "        text-align: right;\n",
       "    }\n",
       "</style>\n",
       "<table border=\"1\" class=\"dataframe\">\n",
       "  <thead>\n",
       "    <tr style=\"text-align: right;\">\n",
       "      <th></th>\n",
       "      <th>published_date</th>\n",
       "      <th>issue_reported</th>\n",
       "      <th>Latitude</th>\n",
       "      <th>Longitude</th>\n",
       "      <th>Address</th>\n",
       "      <th>status_date</th>\n",
       "      <th>published_day</th>\n",
       "      <th>status_day</th>\n",
       "      <th>issue_timespan</th>\n",
       "      <th>timespan_sec</th>\n",
       "      <th>timespan_min</th>\n",
       "      <th>timespan_hrs</th>\n",
       "    </tr>\n",
       "    <tr>\n",
       "      <th>short_ID</th>\n",
       "      <th></th>\n",
       "      <th></th>\n",
       "      <th></th>\n",
       "      <th></th>\n",
       "      <th></th>\n",
       "      <th></th>\n",
       "      <th></th>\n",
       "      <th></th>\n",
       "      <th></th>\n",
       "      <th></th>\n",
       "      <th></th>\n",
       "      <th></th>\n",
       "    </tr>\n",
       "  </thead>\n",
       "  <tbody>\n",
       "    <tr>\n",
       "      <th>C16</th>\n",
       "      <td>2018-06-13 06:35:59+00:00</td>\n",
       "      <td>Crash Service</td>\n",
       "      <td>30.283797</td>\n",
       "      <td>-97.741906</td>\n",
       "      <td>W 21ST ST &amp; GUADALUPE ST</td>\n",
       "      <td>2018-06-13 09:00:03+00:00</td>\n",
       "      <td>2</td>\n",
       "      <td>2</td>\n",
       "      <td>0 days 02:24:04</td>\n",
       "      <td>8644.0</td>\n",
       "      <td>144.066667</td>\n",
       "      <td>2.401111</td>\n",
       "    </tr>\n",
       "    <tr>\n",
       "      <th>6B2</th>\n",
       "      <td>2018-06-13 10:15:36+00:00</td>\n",
       "      <td>Traffic Hazard</td>\n",
       "      <td>30.339593</td>\n",
       "      <td>-97.700963</td>\n",
       "      <td>400-717 E ANDERSON LN EB</td>\n",
       "      <td>2018-06-13 11:20:03+00:00</td>\n",
       "      <td>2</td>\n",
       "      <td>2</td>\n",
       "      <td>0 days 01:04:27</td>\n",
       "      <td>3867.0</td>\n",
       "      <td>64.450000</td>\n",
       "      <td>1.074167</td>\n",
       "    </tr>\n",
       "    <tr>\n",
       "      <th>2A7</th>\n",
       "      <td>2020-04-17 21:25:03+00:00</td>\n",
       "      <td>Crash Urgent</td>\n",
       "      <td>30.329455</td>\n",
       "      <td>-97.638105</td>\n",
       "      <td>E US 290 HWY SVRD EB &amp; EASTERN HEIGHTS BLVD</td>\n",
       "      <td>2020-04-17 21:55:03+00:00</td>\n",
       "      <td>4</td>\n",
       "      <td>4</td>\n",
       "      <td>0 days 00:30:00</td>\n",
       "      <td>1800.0</td>\n",
       "      <td>30.000000</td>\n",
       "      <td>0.500000</td>\n",
       "    </tr>\n",
       "    <tr>\n",
       "      <th>89D</th>\n",
       "      <td>2020-04-17 21:40:52+00:00</td>\n",
       "      <td>Traffic Hazard</td>\n",
       "      <td>30.202806</td>\n",
       "      <td>-97.760701</td>\n",
       "      <td>5300-blk S Ih 35 Sb</td>\n",
       "      <td>2020-04-17 21:55:03+00:00</td>\n",
       "      <td>4</td>\n",
       "      <td>4</td>\n",
       "      <td>0 days 00:14:11</td>\n",
       "      <td>851.0</td>\n",
       "      <td>14.183333</td>\n",
       "      <td>0.236389</td>\n",
       "    </tr>\n",
       "    <tr>\n",
       "      <th>E7F</th>\n",
       "      <td>2020-04-17 21:00:55+00:00</td>\n",
       "      <td>Crash Urgent</td>\n",
       "      <td>30.184265</td>\n",
       "      <td>-97.687339</td>\n",
       "      <td>4500-4720 S Us 183 Hwy Sb</td>\n",
       "      <td>2020-04-17 23:30:04+00:00</td>\n",
       "      <td>4</td>\n",
       "      <td>4</td>\n",
       "      <td>0 days 02:29:09</td>\n",
       "      <td>8949.0</td>\n",
       "      <td>149.150000</td>\n",
       "      <td>2.485833</td>\n",
       "    </tr>\n",
       "  </tbody>\n",
       "</table>\n",
       "</div>"
      ],
      "text/plain": [
       "                    published_date  issue_reported   Latitude  Longitude  \\\n",
       "short_ID                                                                   \n",
       "C16      2018-06-13 06:35:59+00:00   Crash Service  30.283797 -97.741906   \n",
       "6B2      2018-06-13 10:15:36+00:00  Traffic Hazard  30.339593 -97.700963   \n",
       "2A7      2020-04-17 21:25:03+00:00    Crash Urgent  30.329455 -97.638105   \n",
       "89D      2020-04-17 21:40:52+00:00  Traffic Hazard  30.202806 -97.760701   \n",
       "E7F      2020-04-17 21:00:55+00:00    Crash Urgent  30.184265 -97.687339   \n",
       "\n",
       "                                              Address  \\\n",
       "short_ID                                                \n",
       "C16                          W 21ST ST & GUADALUPE ST   \n",
       "6B2                          400-717 E ANDERSON LN EB   \n",
       "2A7       E US 290 HWY SVRD EB & EASTERN HEIGHTS BLVD   \n",
       "89D                               5300-blk S Ih 35 Sb   \n",
       "E7F                         4500-4720 S Us 183 Hwy Sb   \n",
       "\n",
       "                       status_date  published_day  status_day  issue_timespan  \\\n",
       "short_ID                                                                        \n",
       "C16      2018-06-13 09:00:03+00:00              2           2 0 days 02:24:04   \n",
       "6B2      2018-06-13 11:20:03+00:00              2           2 0 days 01:04:27   \n",
       "2A7      2020-04-17 21:55:03+00:00              4           4 0 days 00:30:00   \n",
       "89D      2020-04-17 21:55:03+00:00              4           4 0 days 00:14:11   \n",
       "E7F      2020-04-17 23:30:04+00:00              4           4 0 days 02:29:09   \n",
       "\n",
       "          timespan_sec  timespan_min  timespan_hrs  \n",
       "short_ID                                            \n",
       "C16             8644.0    144.066667      2.401111  \n",
       "6B2             3867.0     64.450000      1.074167  \n",
       "2A7             1800.0     30.000000      0.500000  \n",
       "89D              851.0     14.183333      0.236389  \n",
       "E7F             8949.0    149.150000      2.485833  "
      ]
     },
     "execution_count": 208,
     "metadata": {},
     "output_type": "execute_result"
    }
   ],
   "source": [
    "issue_time = df['status_date'] - df['published_date']\n",
    "issue_time.abs()\n",
    "df['issue_timespan'] = issue_time\n",
    "df.head()"
   ]
  },
  {
   "cell_type": "code",
   "execution_count": 209,
   "id": "30294868",
   "metadata": {},
   "outputs": [
    {
     "data": {
      "text/html": [
       "<div>\n",
       "<style scoped>\n",
       "    .dataframe tbody tr th:only-of-type {\n",
       "        vertical-align: middle;\n",
       "    }\n",
       "\n",
       "    .dataframe tbody tr th {\n",
       "        vertical-align: top;\n",
       "    }\n",
       "\n",
       "    .dataframe thead th {\n",
       "        text-align: right;\n",
       "    }\n",
       "</style>\n",
       "<table border=\"1\" class=\"dataframe\">\n",
       "  <thead>\n",
       "    <tr style=\"text-align: right;\">\n",
       "      <th></th>\n",
       "      <th>issue_reported</th>\n",
       "      <th>published_date</th>\n",
       "      <th>status_date</th>\n",
       "    </tr>\n",
       "  </thead>\n",
       "  <tbody>\n",
       "    <tr>\n",
       "      <th>0</th>\n",
       "      <td>Crash Service</td>\n",
       "      <td>2018-06-13 06:35:59+00:00</td>\n",
       "      <td>2018-06-13 09:00:03+00:00</td>\n",
       "    </tr>\n",
       "    <tr>\n",
       "      <th>1</th>\n",
       "      <td>Traffic Hazard</td>\n",
       "      <td>2018-06-13 10:15:36+00:00</td>\n",
       "      <td>2018-06-13 11:20:03+00:00</td>\n",
       "    </tr>\n",
       "    <tr>\n",
       "      <th>2</th>\n",
       "      <td>Crash Urgent</td>\n",
       "      <td>2020-04-17 21:25:03+00:00</td>\n",
       "      <td>2020-04-17 21:55:03+00:00</td>\n",
       "    </tr>\n",
       "    <tr>\n",
       "      <th>3</th>\n",
       "      <td>Traffic Hazard</td>\n",
       "      <td>2020-04-17 21:40:52+00:00</td>\n",
       "      <td>2020-04-17 21:55:03+00:00</td>\n",
       "    </tr>\n",
       "    <tr>\n",
       "      <th>4</th>\n",
       "      <td>Crash Urgent</td>\n",
       "      <td>2020-04-17 21:00:55+00:00</td>\n",
       "      <td>2020-04-17 23:30:04+00:00</td>\n",
       "    </tr>\n",
       "  </tbody>\n",
       "</table>\n",
       "</div>"
      ],
      "text/plain": [
       "   issue_reported            published_date               status_date\n",
       "0   Crash Service 2018-06-13 06:35:59+00:00 2018-06-13 09:00:03+00:00\n",
       "1  Traffic Hazard 2018-06-13 10:15:36+00:00 2018-06-13 11:20:03+00:00\n",
       "2    Crash Urgent 2020-04-17 21:25:03+00:00 2020-04-17 21:55:03+00:00\n",
       "3  Traffic Hazard 2020-04-17 21:40:52+00:00 2020-04-17 21:55:03+00:00\n",
       "4    Crash Urgent 2020-04-17 21:00:55+00:00 2020-04-17 23:30:04+00:00"
      ]
     },
     "execution_count": 209,
     "metadata": {},
     "output_type": "execute_result"
    }
   ],
   "source": [
    "address_date = df[['Address', 'published_date', 'status_date']]\n",
    "issue_date.head()"
   ]
  },
  {
   "cell_type": "code",
   "execution_count": 210,
   "id": "6b0e6460",
   "metadata": {},
   "outputs": [
    {
     "data": {
      "text/plain": [
       "array(['Crash Service', 'Traffic Hazard', 'Crash Urgent', 'VEHICLE FIRE',\n",
       "       'TRFC HAZD/ DEBRIS', 'COLLISION WITH INJURY', 'zSTALLED VEHICLE',\n",
       "       'COLLISION', 'COLLISN/ LVNG SCN', 'LOOSE LIVESTOCK',\n",
       "       'Stalled Vehicle', 'BLOCKED DRIV/ HWY',\n",
       "       'COLLISION/PRIVATE PROPERTY', 'BOAT ACCIDENT', 'FLEET ACC/ INJURY',\n",
       "       'Traffic Impediment', 'AUTO/ PED', 'TRAFFIC FATALITY',\n",
       "       'OBSTRUCT HWY', 'ICY ROADWAY', 'COLLISN / FTSRA',\n",
       "       'N / HZRD TRFC VIOL', 'HIGH WATER', 'FLEET ACC/ FATAL'],\n",
       "      dtype=object)"
      ]
     },
     "execution_count": 210,
     "metadata": {},
     "output_type": "execute_result"
    }
   ],
   "source": [
    "df['issue_reported'].unique()"
   ]
  },
  {
   "cell_type": "code",
   "execution_count": 211,
   "id": "ccd22bb3",
   "metadata": {},
   "outputs": [
    {
     "data": {
      "text/plain": [
       "E Parmer Ln & Dessau Rd                  177\n",
       "9300 S Ih 35 Svrd Sb                     164\n",
       "E Riverside Dr & S Pleasant Valley Rd    156\n",
       "Fm 969 Rd & N Fm 973 Rd                  154\n",
       "Dessau Rd & E Parmer Ln                  150\n",
       "                                        ... \n",
       "21923 Ann Showers Dr                       1\n",
       "2704 SETTLEMENT DR                         1\n",
       "5200-5226 JIM HOGG AVE                     1\n",
       "500 CENTER RIDGE DR                        1\n",
       "17913 Civorno Dr                           1\n",
       "Name: Address, Length: 82604, dtype: int64"
      ]
     },
     "execution_count": 211,
     "metadata": {},
     "output_type": "execute_result"
    }
   ],
   "source": [
    "df['Address'].value_counts()"
   ]
  },
  {
   "cell_type": "markdown",
   "id": "0db34648",
   "metadata": {},
   "source": [
    "Clearly some Adresses are more prone to accidents. These appear to be a series of intersections that can also be\n",
    "identified through location data. Example: E Parmer Ln & Dessau Rd (177 issues reported) is location\n",
    "30.387004,-97.648592 (381 issues reported). This suggests that perhaps the location indicator may be more accurate\n",
    "even though addresses are easier to communicate."
   ]
  },
  {
   "cell_type": "markdown",
   "id": "e51f8398",
   "metadata": {},
   "source": [
    "#### I wanted to know what day of the week certain issues happened along with the volume of issue per day.\n",
    "##### Hense, these datetime objects are converted into the days of the week \n",
    "##### 0 = Monday, 6 = Sunday and can be found on the published_day/status_day columns"
   ]
  },
  {
   "cell_type": "code",
   "execution_count": 212,
   "id": "6b202568",
   "metadata": {
    "scrolled": true
   },
   "outputs": [
    {
     "data": {
      "text/html": [
       "<div>\n",
       "<style scoped>\n",
       "    .dataframe tbody tr th:only-of-type {\n",
       "        vertical-align: middle;\n",
       "    }\n",
       "\n",
       "    .dataframe tbody tr th {\n",
       "        vertical-align: top;\n",
       "    }\n",
       "\n",
       "    .dataframe thead th {\n",
       "        text-align: right;\n",
       "    }\n",
       "</style>\n",
       "<table border=\"1\" class=\"dataframe\">\n",
       "  <thead>\n",
       "    <tr style=\"text-align: right;\">\n",
       "      <th></th>\n",
       "      <th>published_date</th>\n",
       "      <th>issue_reported</th>\n",
       "      <th>Latitude</th>\n",
       "      <th>Longitude</th>\n",
       "      <th>Address</th>\n",
       "      <th>status_date</th>\n",
       "      <th>published_day</th>\n",
       "      <th>status_day</th>\n",
       "      <th>issue_timespan</th>\n",
       "      <th>timespan_sec</th>\n",
       "      <th>timespan_min</th>\n",
       "      <th>timespan_hrs</th>\n",
       "    </tr>\n",
       "    <tr>\n",
       "      <th>short_ID</th>\n",
       "      <th></th>\n",
       "      <th></th>\n",
       "      <th></th>\n",
       "      <th></th>\n",
       "      <th></th>\n",
       "      <th></th>\n",
       "      <th></th>\n",
       "      <th></th>\n",
       "      <th></th>\n",
       "      <th></th>\n",
       "      <th></th>\n",
       "      <th></th>\n",
       "    </tr>\n",
       "  </thead>\n",
       "  <tbody>\n",
       "    <tr>\n",
       "      <th>C16</th>\n",
       "      <td>2018-06-13 06:35:59+00:00</td>\n",
       "      <td>Crash Service</td>\n",
       "      <td>30.283797</td>\n",
       "      <td>-97.741906</td>\n",
       "      <td>W 21ST ST &amp; GUADALUPE ST</td>\n",
       "      <td>2018-06-13 09:00:03+00:00</td>\n",
       "      <td>2</td>\n",
       "      <td>2</td>\n",
       "      <td>0 days 02:24:04</td>\n",
       "      <td>8644.0</td>\n",
       "      <td>144.066667</td>\n",
       "      <td>2.401111</td>\n",
       "    </tr>\n",
       "    <tr>\n",
       "      <th>6B2</th>\n",
       "      <td>2018-06-13 10:15:36+00:00</td>\n",
       "      <td>Traffic Hazard</td>\n",
       "      <td>30.339593</td>\n",
       "      <td>-97.700963</td>\n",
       "      <td>400-717 E ANDERSON LN EB</td>\n",
       "      <td>2018-06-13 11:20:03+00:00</td>\n",
       "      <td>2</td>\n",
       "      <td>2</td>\n",
       "      <td>0 days 01:04:27</td>\n",
       "      <td>3867.0</td>\n",
       "      <td>64.450000</td>\n",
       "      <td>1.074167</td>\n",
       "    </tr>\n",
       "    <tr>\n",
       "      <th>2A7</th>\n",
       "      <td>2020-04-17 21:25:03+00:00</td>\n",
       "      <td>Crash Urgent</td>\n",
       "      <td>30.329455</td>\n",
       "      <td>-97.638105</td>\n",
       "      <td>E US 290 HWY SVRD EB &amp; EASTERN HEIGHTS BLVD</td>\n",
       "      <td>2020-04-17 21:55:03+00:00</td>\n",
       "      <td>4</td>\n",
       "      <td>4</td>\n",
       "      <td>0 days 00:30:00</td>\n",
       "      <td>1800.0</td>\n",
       "      <td>30.000000</td>\n",
       "      <td>0.500000</td>\n",
       "    </tr>\n",
       "    <tr>\n",
       "      <th>89D</th>\n",
       "      <td>2020-04-17 21:40:52+00:00</td>\n",
       "      <td>Traffic Hazard</td>\n",
       "      <td>30.202806</td>\n",
       "      <td>-97.760701</td>\n",
       "      <td>5300-blk S Ih 35 Sb</td>\n",
       "      <td>2020-04-17 21:55:03+00:00</td>\n",
       "      <td>4</td>\n",
       "      <td>4</td>\n",
       "      <td>0 days 00:14:11</td>\n",
       "      <td>851.0</td>\n",
       "      <td>14.183333</td>\n",
       "      <td>0.236389</td>\n",
       "    </tr>\n",
       "    <tr>\n",
       "      <th>E7F</th>\n",
       "      <td>2020-04-17 21:00:55+00:00</td>\n",
       "      <td>Crash Urgent</td>\n",
       "      <td>30.184265</td>\n",
       "      <td>-97.687339</td>\n",
       "      <td>4500-4720 S Us 183 Hwy Sb</td>\n",
       "      <td>2020-04-17 23:30:04+00:00</td>\n",
       "      <td>4</td>\n",
       "      <td>4</td>\n",
       "      <td>0 days 02:29:09</td>\n",
       "      <td>8949.0</td>\n",
       "      <td>149.150000</td>\n",
       "      <td>2.485833</td>\n",
       "    </tr>\n",
       "  </tbody>\n",
       "</table>\n",
       "</div>"
      ],
      "text/plain": [
       "                    published_date  issue_reported   Latitude  Longitude  \\\n",
       "short_ID                                                                   \n",
       "C16      2018-06-13 06:35:59+00:00   Crash Service  30.283797 -97.741906   \n",
       "6B2      2018-06-13 10:15:36+00:00  Traffic Hazard  30.339593 -97.700963   \n",
       "2A7      2020-04-17 21:25:03+00:00    Crash Urgent  30.329455 -97.638105   \n",
       "89D      2020-04-17 21:40:52+00:00  Traffic Hazard  30.202806 -97.760701   \n",
       "E7F      2020-04-17 21:00:55+00:00    Crash Urgent  30.184265 -97.687339   \n",
       "\n",
       "                                              Address  \\\n",
       "short_ID                                                \n",
       "C16                          W 21ST ST & GUADALUPE ST   \n",
       "6B2                          400-717 E ANDERSON LN EB   \n",
       "2A7       E US 290 HWY SVRD EB & EASTERN HEIGHTS BLVD   \n",
       "89D                               5300-blk S Ih 35 Sb   \n",
       "E7F                         4500-4720 S Us 183 Hwy Sb   \n",
       "\n",
       "                       status_date  published_day  status_day  issue_timespan  \\\n",
       "short_ID                                                                        \n",
       "C16      2018-06-13 09:00:03+00:00              2           2 0 days 02:24:04   \n",
       "6B2      2018-06-13 11:20:03+00:00              2           2 0 days 01:04:27   \n",
       "2A7      2020-04-17 21:55:03+00:00              4           4 0 days 00:30:00   \n",
       "89D      2020-04-17 21:55:03+00:00              4           4 0 days 00:14:11   \n",
       "E7F      2020-04-17 23:30:04+00:00              4           4 0 days 02:29:09   \n",
       "\n",
       "          timespan_sec  timespan_min  timespan_hrs  \n",
       "short_ID                                            \n",
       "C16             8644.0    144.066667      2.401111  \n",
       "6B2             3867.0     64.450000      1.074167  \n",
       "2A7             1800.0     30.000000      0.500000  \n",
       "89D              851.0     14.183333      0.236389  \n",
       "E7F             8949.0    149.150000      2.485833  "
      ]
     },
     "execution_count": 212,
     "metadata": {},
     "output_type": "execute_result"
    }
   ],
   "source": [
    "pub_day = df['published_date'].dt.dayofweek\n",
    "df['published_day'] = pub_day\n",
    "pub_day = df['status_date'].dt.dayofweek\n",
    "df['status_day'] = pub_day\n",
    "\n",
    "df.head()"
   ]
  },
  {
   "cell_type": "markdown",
   "id": "d3eb2b28",
   "metadata": {},
   "source": [
    "#### Converting issue_timespan column into seconds"
   ]
  },
  {
   "cell_type": "code",
   "execution_count": 213,
   "id": "726d0d97",
   "metadata": {
    "scrolled": true
   },
   "outputs": [
    {
     "data": {
      "text/html": [
       "<div>\n",
       "<style scoped>\n",
       "    .dataframe tbody tr th:only-of-type {\n",
       "        vertical-align: middle;\n",
       "    }\n",
       "\n",
       "    .dataframe tbody tr th {\n",
       "        vertical-align: top;\n",
       "    }\n",
       "\n",
       "    .dataframe thead th {\n",
       "        text-align: right;\n",
       "    }\n",
       "</style>\n",
       "<table border=\"1\" class=\"dataframe\">\n",
       "  <thead>\n",
       "    <tr style=\"text-align: right;\">\n",
       "      <th></th>\n",
       "      <th>published_date</th>\n",
       "      <th>issue_reported</th>\n",
       "      <th>Latitude</th>\n",
       "      <th>Longitude</th>\n",
       "      <th>Address</th>\n",
       "      <th>status_date</th>\n",
       "      <th>published_day</th>\n",
       "      <th>status_day</th>\n",
       "      <th>issue_timespan</th>\n",
       "      <th>timespan_sec</th>\n",
       "      <th>timespan_min</th>\n",
       "      <th>timespan_hrs</th>\n",
       "      <th>issue_reported_value</th>\n",
       "    </tr>\n",
       "    <tr>\n",
       "      <th>short_ID</th>\n",
       "      <th></th>\n",
       "      <th></th>\n",
       "      <th></th>\n",
       "      <th></th>\n",
       "      <th></th>\n",
       "      <th></th>\n",
       "      <th></th>\n",
       "      <th></th>\n",
       "      <th></th>\n",
       "      <th></th>\n",
       "      <th></th>\n",
       "      <th></th>\n",
       "      <th></th>\n",
       "    </tr>\n",
       "  </thead>\n",
       "  <tbody>\n",
       "    <tr>\n",
       "      <th>C16</th>\n",
       "      <td>2018-06-13 06:35:59+00:00</td>\n",
       "      <td>Crash Service</td>\n",
       "      <td>30.283797</td>\n",
       "      <td>-97.741906</td>\n",
       "      <td>W 21ST ST &amp; GUADALUPE ST</td>\n",
       "      <td>2018-06-13 09:00:03+00:00</td>\n",
       "      <td>2</td>\n",
       "      <td>2</td>\n",
       "      <td>0 days 02:24:04</td>\n",
       "      <td>8644.0</td>\n",
       "      <td>144.066667</td>\n",
       "      <td>2.401111</td>\n",
       "      <td>NaN</td>\n",
       "    </tr>\n",
       "    <tr>\n",
       "      <th>6B2</th>\n",
       "      <td>2018-06-13 10:15:36+00:00</td>\n",
       "      <td>Traffic Hazard</td>\n",
       "      <td>30.339593</td>\n",
       "      <td>-97.700963</td>\n",
       "      <td>400-717 E ANDERSON LN EB</td>\n",
       "      <td>2018-06-13 11:20:03+00:00</td>\n",
       "      <td>2</td>\n",
       "      <td>2</td>\n",
       "      <td>0 days 01:04:27</td>\n",
       "      <td>3867.0</td>\n",
       "      <td>64.450000</td>\n",
       "      <td>1.074167</td>\n",
       "      <td>NaN</td>\n",
       "    </tr>\n",
       "    <tr>\n",
       "      <th>2A7</th>\n",
       "      <td>2020-04-17 21:25:03+00:00</td>\n",
       "      <td>Crash Urgent</td>\n",
       "      <td>30.329455</td>\n",
       "      <td>-97.638105</td>\n",
       "      <td>E US 290 HWY SVRD EB &amp; EASTERN HEIGHTS BLVD</td>\n",
       "      <td>2020-04-17 21:55:03+00:00</td>\n",
       "      <td>4</td>\n",
       "      <td>4</td>\n",
       "      <td>0 days 00:30:00</td>\n",
       "      <td>1800.0</td>\n",
       "      <td>30.000000</td>\n",
       "      <td>0.500000</td>\n",
       "      <td>NaN</td>\n",
       "    </tr>\n",
       "    <tr>\n",
       "      <th>89D</th>\n",
       "      <td>2020-04-17 21:40:52+00:00</td>\n",
       "      <td>Traffic Hazard</td>\n",
       "      <td>30.202806</td>\n",
       "      <td>-97.760701</td>\n",
       "      <td>5300-blk S Ih 35 Sb</td>\n",
       "      <td>2020-04-17 21:55:03+00:00</td>\n",
       "      <td>4</td>\n",
       "      <td>4</td>\n",
       "      <td>0 days 00:14:11</td>\n",
       "      <td>851.0</td>\n",
       "      <td>14.183333</td>\n",
       "      <td>0.236389</td>\n",
       "      <td>NaN</td>\n",
       "    </tr>\n",
       "    <tr>\n",
       "      <th>E7F</th>\n",
       "      <td>2020-04-17 21:00:55+00:00</td>\n",
       "      <td>Crash Urgent</td>\n",
       "      <td>30.184265</td>\n",
       "      <td>-97.687339</td>\n",
       "      <td>4500-4720 S Us 183 Hwy Sb</td>\n",
       "      <td>2020-04-17 23:30:04+00:00</td>\n",
       "      <td>4</td>\n",
       "      <td>4</td>\n",
       "      <td>0 days 02:29:09</td>\n",
       "      <td>8949.0</td>\n",
       "      <td>149.150000</td>\n",
       "      <td>2.485833</td>\n",
       "      <td>NaN</td>\n",
       "    </tr>\n",
       "  </tbody>\n",
       "</table>\n",
       "</div>"
      ],
      "text/plain": [
       "                    published_date  issue_reported   Latitude  Longitude  \\\n",
       "short_ID                                                                   \n",
       "C16      2018-06-13 06:35:59+00:00   Crash Service  30.283797 -97.741906   \n",
       "6B2      2018-06-13 10:15:36+00:00  Traffic Hazard  30.339593 -97.700963   \n",
       "2A7      2020-04-17 21:25:03+00:00    Crash Urgent  30.329455 -97.638105   \n",
       "89D      2020-04-17 21:40:52+00:00  Traffic Hazard  30.202806 -97.760701   \n",
       "E7F      2020-04-17 21:00:55+00:00    Crash Urgent  30.184265 -97.687339   \n",
       "\n",
       "                                              Address  \\\n",
       "short_ID                                                \n",
       "C16                          W 21ST ST & GUADALUPE ST   \n",
       "6B2                          400-717 E ANDERSON LN EB   \n",
       "2A7       E US 290 HWY SVRD EB & EASTERN HEIGHTS BLVD   \n",
       "89D                               5300-blk S Ih 35 Sb   \n",
       "E7F                         4500-4720 S Us 183 Hwy Sb   \n",
       "\n",
       "                       status_date  published_day  status_day  issue_timespan  \\\n",
       "short_ID                                                                        \n",
       "C16      2018-06-13 09:00:03+00:00              2           2 0 days 02:24:04   \n",
       "6B2      2018-06-13 11:20:03+00:00              2           2 0 days 01:04:27   \n",
       "2A7      2020-04-17 21:55:03+00:00              4           4 0 days 00:30:00   \n",
       "89D      2020-04-17 21:55:03+00:00              4           4 0 days 00:14:11   \n",
       "E7F      2020-04-17 23:30:04+00:00              4           4 0 days 02:29:09   \n",
       "\n",
       "          timespan_sec  timespan_min  timespan_hrs  issue_reported_value  \n",
       "short_ID                                                                  \n",
       "C16             8644.0    144.066667      2.401111                   NaN  \n",
       "6B2             3867.0     64.450000      1.074167                   NaN  \n",
       "2A7             1800.0     30.000000      0.500000                   NaN  \n",
       "89D              851.0     14.183333      0.236389                   NaN  \n",
       "E7F             8949.0    149.150000      2.485833                   NaN  "
      ]
     },
     "execution_count": 213,
     "metadata": {},
     "output_type": "execute_result"
    }
   ],
   "source": [
    "issue_timespan_sec = df['issue_timespan'].value_counts()\n",
    "df['issue_reported_value'] = issue_timespan_sec\n",
    "df.head()"
   ]
  },
  {
   "cell_type": "markdown",
   "id": "2e6eabc8",
   "metadata": {},
   "source": [
    "#### I will also convert the timespan from seconds to minutes and hours."
   ]
  },
  {
   "cell_type": "code",
   "execution_count": 214,
   "id": "93a3828f",
   "metadata": {
    "scrolled": true
   },
   "outputs": [
    {
     "data": {
      "text/html": [
       "<div>\n",
       "<style scoped>\n",
       "    .dataframe tbody tr th:only-of-type {\n",
       "        vertical-align: middle;\n",
       "    }\n",
       "\n",
       "    .dataframe tbody tr th {\n",
       "        vertical-align: top;\n",
       "    }\n",
       "\n",
       "    .dataframe thead th {\n",
       "        text-align: right;\n",
       "    }\n",
       "</style>\n",
       "<table border=\"1\" class=\"dataframe\">\n",
       "  <thead>\n",
       "    <tr style=\"text-align: right;\">\n",
       "      <th></th>\n",
       "      <th>published_date</th>\n",
       "      <th>issue_reported</th>\n",
       "      <th>Latitude</th>\n",
       "      <th>Longitude</th>\n",
       "      <th>Address</th>\n",
       "      <th>status_date</th>\n",
       "      <th>published_day</th>\n",
       "      <th>status_day</th>\n",
       "      <th>issue_timespan</th>\n",
       "      <th>timespan_sec</th>\n",
       "      <th>timespan_min</th>\n",
       "      <th>timespan_hrs</th>\n",
       "      <th>issue_reported_value</th>\n",
       "    </tr>\n",
       "    <tr>\n",
       "      <th>short_ID</th>\n",
       "      <th></th>\n",
       "      <th></th>\n",
       "      <th></th>\n",
       "      <th></th>\n",
       "      <th></th>\n",
       "      <th></th>\n",
       "      <th></th>\n",
       "      <th></th>\n",
       "      <th></th>\n",
       "      <th></th>\n",
       "      <th></th>\n",
       "      <th></th>\n",
       "      <th></th>\n",
       "    </tr>\n",
       "  </thead>\n",
       "  <tbody>\n",
       "    <tr>\n",
       "      <th>C16</th>\n",
       "      <td>2018-06-13 06:35:59+00:00</td>\n",
       "      <td>Crash Service</td>\n",
       "      <td>30.283797</td>\n",
       "      <td>-97.741906</td>\n",
       "      <td>W 21ST ST &amp; GUADALUPE ST</td>\n",
       "      <td>2018-06-13 09:00:03+00:00</td>\n",
       "      <td>2</td>\n",
       "      <td>2</td>\n",
       "      <td>0 days 02:24:04</td>\n",
       "      <td>8644.0</td>\n",
       "      <td>144.066667</td>\n",
       "      <td>2.401111</td>\n",
       "      <td>NaN</td>\n",
       "    </tr>\n",
       "    <tr>\n",
       "      <th>6B2</th>\n",
       "      <td>2018-06-13 10:15:36+00:00</td>\n",
       "      <td>Traffic Hazard</td>\n",
       "      <td>30.339593</td>\n",
       "      <td>-97.700963</td>\n",
       "      <td>400-717 E ANDERSON LN EB</td>\n",
       "      <td>2018-06-13 11:20:03+00:00</td>\n",
       "      <td>2</td>\n",
       "      <td>2</td>\n",
       "      <td>0 days 01:04:27</td>\n",
       "      <td>3867.0</td>\n",
       "      <td>64.450000</td>\n",
       "      <td>1.074167</td>\n",
       "      <td>NaN</td>\n",
       "    </tr>\n",
       "    <tr>\n",
       "      <th>2A7</th>\n",
       "      <td>2020-04-17 21:25:03+00:00</td>\n",
       "      <td>Crash Urgent</td>\n",
       "      <td>30.329455</td>\n",
       "      <td>-97.638105</td>\n",
       "      <td>E US 290 HWY SVRD EB &amp; EASTERN HEIGHTS BLVD</td>\n",
       "      <td>2020-04-17 21:55:03+00:00</td>\n",
       "      <td>4</td>\n",
       "      <td>4</td>\n",
       "      <td>0 days 00:30:00</td>\n",
       "      <td>1800.0</td>\n",
       "      <td>30.000000</td>\n",
       "      <td>0.500000</td>\n",
       "      <td>NaN</td>\n",
       "    </tr>\n",
       "    <tr>\n",
       "      <th>89D</th>\n",
       "      <td>2020-04-17 21:40:52+00:00</td>\n",
       "      <td>Traffic Hazard</td>\n",
       "      <td>30.202806</td>\n",
       "      <td>-97.760701</td>\n",
       "      <td>5300-blk S Ih 35 Sb</td>\n",
       "      <td>2020-04-17 21:55:03+00:00</td>\n",
       "      <td>4</td>\n",
       "      <td>4</td>\n",
       "      <td>0 days 00:14:11</td>\n",
       "      <td>851.0</td>\n",
       "      <td>14.183333</td>\n",
       "      <td>0.236389</td>\n",
       "      <td>NaN</td>\n",
       "    </tr>\n",
       "    <tr>\n",
       "      <th>E7F</th>\n",
       "      <td>2020-04-17 21:00:55+00:00</td>\n",
       "      <td>Crash Urgent</td>\n",
       "      <td>30.184265</td>\n",
       "      <td>-97.687339</td>\n",
       "      <td>4500-4720 S Us 183 Hwy Sb</td>\n",
       "      <td>2020-04-17 23:30:04+00:00</td>\n",
       "      <td>4</td>\n",
       "      <td>4</td>\n",
       "      <td>0 days 02:29:09</td>\n",
       "      <td>8949.0</td>\n",
       "      <td>149.150000</td>\n",
       "      <td>2.485833</td>\n",
       "      <td>NaN</td>\n",
       "    </tr>\n",
       "  </tbody>\n",
       "</table>\n",
       "</div>"
      ],
      "text/plain": [
       "                    published_date  issue_reported   Latitude  Longitude  \\\n",
       "short_ID                                                                   \n",
       "C16      2018-06-13 06:35:59+00:00   Crash Service  30.283797 -97.741906   \n",
       "6B2      2018-06-13 10:15:36+00:00  Traffic Hazard  30.339593 -97.700963   \n",
       "2A7      2020-04-17 21:25:03+00:00    Crash Urgent  30.329455 -97.638105   \n",
       "89D      2020-04-17 21:40:52+00:00  Traffic Hazard  30.202806 -97.760701   \n",
       "E7F      2020-04-17 21:00:55+00:00    Crash Urgent  30.184265 -97.687339   \n",
       "\n",
       "                                              Address  \\\n",
       "short_ID                                                \n",
       "C16                          W 21ST ST & GUADALUPE ST   \n",
       "6B2                          400-717 E ANDERSON LN EB   \n",
       "2A7       E US 290 HWY SVRD EB & EASTERN HEIGHTS BLVD   \n",
       "89D                               5300-blk S Ih 35 Sb   \n",
       "E7F                         4500-4720 S Us 183 Hwy Sb   \n",
       "\n",
       "                       status_date  published_day  status_day  issue_timespan  \\\n",
       "short_ID                                                                        \n",
       "C16      2018-06-13 09:00:03+00:00              2           2 0 days 02:24:04   \n",
       "6B2      2018-06-13 11:20:03+00:00              2           2 0 days 01:04:27   \n",
       "2A7      2020-04-17 21:55:03+00:00              4           4 0 days 00:30:00   \n",
       "89D      2020-04-17 21:55:03+00:00              4           4 0 days 00:14:11   \n",
       "E7F      2020-04-17 23:30:04+00:00              4           4 0 days 02:29:09   \n",
       "\n",
       "          timespan_sec  timespan_min  timespan_hrs  issue_reported_value  \n",
       "short_ID                                                                  \n",
       "C16             8644.0    144.066667      2.401111                   NaN  \n",
       "6B2             3867.0     64.450000      1.074167                   NaN  \n",
       "2A7             1800.0     30.000000      0.500000                   NaN  \n",
       "89D              851.0     14.183333      0.236389                   NaN  \n",
       "E7F             8949.0    149.150000      2.485833                   NaN  "
      ]
     },
     "execution_count": 214,
     "metadata": {},
     "output_type": "execute_result"
    }
   ],
   "source": [
    "df['timespan_sec'] = df.issue_timespan.apply(lambda x: x.total_seconds())\n",
    "df['timespan_min'] = df['timespan_sec']/60\n",
    "df['timespan_hrs'] = df['timespan_min']/60\n",
    "df.head()"
   ]
  },
  {
   "cell_type": "markdown",
   "id": "087e1558",
   "metadata": {},
   "source": [
    "#### THe tr_id is too long and make the head hard to read. I decided to shorten it as well as making it the new index."
   ]
  },
  {
   "cell_type": "markdown",
   "id": "3f56f0c2",
   "metadata": {},
   "source": [
    "df['short_ID'] = df['tr_ID'].str.slice(0,3)\n",
    "df = df.drop('tr_ID', 1)\n",
    "df = df.drop('Status', 1)\n",
    "df = df.drop('issue_reported_value', 1)\n",
    "df.head()"
   ]
  },
  {
   "cell_type": "markdown",
   "id": "ad6b1e30",
   "metadata": {},
   "source": [
    "df.set_index('short_ID', inplace = True)\n",
    "df.head()"
   ]
  },
  {
   "cell_type": "markdown",
   "id": "3d401a1f",
   "metadata": {},
   "source": [
    "#### I'm looking to see if there is much difference between plublished_day and status day.\n",
    "##### I was considering dropping some rows if the number was insignificant. "
   ]
  },
  {
   "cell_type": "code",
   "execution_count": 220,
   "id": "d7bbb85f",
   "metadata": {
    "scrolled": false
   },
   "outputs": [
    {
     "data": {
      "text/html": [
       "<div>\n",
       "<style scoped>\n",
       "    .dataframe tbody tr th:only-of-type {\n",
       "        vertical-align: middle;\n",
       "    }\n",
       "\n",
       "    .dataframe tbody tr th {\n",
       "        vertical-align: top;\n",
       "    }\n",
       "\n",
       "    .dataframe thead th {\n",
       "        text-align: right;\n",
       "    }\n",
       "</style>\n",
       "<table border=\"1\" class=\"dataframe\">\n",
       "  <thead>\n",
       "    <tr style=\"text-align: right;\">\n",
       "      <th></th>\n",
       "      <th>published_date</th>\n",
       "      <th>issue_reported</th>\n",
       "      <th>Latitude</th>\n",
       "      <th>Longitude</th>\n",
       "      <th>Address</th>\n",
       "      <th>status_date</th>\n",
       "      <th>published_day</th>\n",
       "      <th>status_day</th>\n",
       "      <th>issue_timespan</th>\n",
       "      <th>timespan_sec</th>\n",
       "      <th>timespan_min</th>\n",
       "      <th>timespan_hrs</th>\n",
       "    </tr>\n",
       "    <tr>\n",
       "      <th>short_ID</th>\n",
       "      <th></th>\n",
       "      <th></th>\n",
       "      <th></th>\n",
       "      <th></th>\n",
       "      <th></th>\n",
       "      <th></th>\n",
       "      <th></th>\n",
       "      <th></th>\n",
       "      <th></th>\n",
       "      <th></th>\n",
       "      <th></th>\n",
       "      <th></th>\n",
       "    </tr>\n",
       "  </thead>\n",
       "  <tbody>\n",
       "    <tr>\n",
       "      <th>5E7</th>\n",
       "      <td>2020-04-17 21:44:39+00:00</td>\n",
       "      <td>Crash Urgent</td>\n",
       "      <td>30.353742</td>\n",
       "      <td>-97.690482</td>\n",
       "      <td>9001 N Ih 35 Svrd Nb</td>\n",
       "      <td>2020-04-18 00:05:28+00:00</td>\n",
       "      <td>4</td>\n",
       "      <td>5</td>\n",
       "      <td>0 days 02:20:49</td>\n",
       "      <td>8449.0</td>\n",
       "      <td>140.816667</td>\n",
       "      <td>2.346944</td>\n",
       "    </tr>\n",
       "    <tr>\n",
       "      <th>456</th>\n",
       "      <td>2020-04-21 10:45:58+00:00</td>\n",
       "      <td>VEHICLE FIRE</td>\n",
       "      <td>30.431001</td>\n",
       "      <td>-97.940508</td>\n",
       "      <td>5973 Hi Line Rd</td>\n",
       "      <td>2020-04-22 03:20:04+00:00</td>\n",
       "      <td>1</td>\n",
       "      <td>2</td>\n",
       "      <td>0 days 16:34:06</td>\n",
       "      <td>59646.0</td>\n",
       "      <td>994.100000</td>\n",
       "      <td>16.568333</td>\n",
       "    </tr>\n",
       "    <tr>\n",
       "      <th>FF3</th>\n",
       "      <td>2020-04-17 23:29:26+00:00</td>\n",
       "      <td>Crash Service</td>\n",
       "      <td>30.205068</td>\n",
       "      <td>-97.775196</td>\n",
       "      <td>107 W STASSNEY LN</td>\n",
       "      <td>2020-04-18 00:00:05+00:00</td>\n",
       "      <td>4</td>\n",
       "      <td>5</td>\n",
       "      <td>0 days 00:30:39</td>\n",
       "      <td>1839.0</td>\n",
       "      <td>30.650000</td>\n",
       "      <td>0.510833</td>\n",
       "    </tr>\n",
       "    <tr>\n",
       "      <th>2B6</th>\n",
       "      <td>2020-04-17 22:53:45+00:00</td>\n",
       "      <td>Crash Urgent</td>\n",
       "      <td>30.229962</td>\n",
       "      <td>-97.864551</td>\n",
       "      <td>W William Cannon Dr &amp; Escarpment Blvd</td>\n",
       "      <td>2020-04-18 00:40:04+00:00</td>\n",
       "      <td>4</td>\n",
       "      <td>5</td>\n",
       "      <td>0 days 01:46:19</td>\n",
       "      <td>6379.0</td>\n",
       "      <td>106.316667</td>\n",
       "      <td>1.771944</td>\n",
       "    </tr>\n",
       "    <tr>\n",
       "      <th>23C</th>\n",
       "      <td>2020-10-28 23:47:11+00:00</td>\n",
       "      <td>COLLISN/ LVNG SCN</td>\n",
       "      <td>30.438657</td>\n",
       "      <td>-97.671975</td>\n",
       "      <td>14600 Owen Tech Blvd</td>\n",
       "      <td>2020-10-29 00:05:03+00:00</td>\n",
       "      <td>2</td>\n",
       "      <td>3</td>\n",
       "      <td>0 days 00:17:52</td>\n",
       "      <td>1072.0</td>\n",
       "      <td>17.866667</td>\n",
       "      <td>0.297778</td>\n",
       "    </tr>\n",
       "    <tr>\n",
       "      <th>...</th>\n",
       "      <td>...</td>\n",
       "      <td>...</td>\n",
       "      <td>...</td>\n",
       "      <td>...</td>\n",
       "      <td>...</td>\n",
       "      <td>...</td>\n",
       "      <td>...</td>\n",
       "      <td>...</td>\n",
       "      <td>...</td>\n",
       "      <td>...</td>\n",
       "      <td>...</td>\n",
       "      <td>...</td>\n",
       "    </tr>\n",
       "    <tr>\n",
       "      <th>B33</th>\n",
       "      <td>2021-12-12 22:05:40+00:00</td>\n",
       "      <td>Crash Service</td>\n",
       "      <td>30.366005</td>\n",
       "      <td>-97.683512</td>\n",
       "      <td>10100 N Ih 35 Svrd Sb</td>\n",
       "      <td>2021-12-13 00:35:03+00:00</td>\n",
       "      <td>6</td>\n",
       "      <td>0</td>\n",
       "      <td>0 days 02:29:23</td>\n",
       "      <td>8963.0</td>\n",
       "      <td>149.383333</td>\n",
       "      <td>2.489722</td>\n",
       "    </tr>\n",
       "    <tr>\n",
       "      <th>2B3</th>\n",
       "      <td>2021-12-12 23:56:32+00:00</td>\n",
       "      <td>Crash Service</td>\n",
       "      <td>30.162182</td>\n",
       "      <td>-97.789085</td>\n",
       "      <td>9500 S Ih 35 Svrd Sb</td>\n",
       "      <td>2021-12-13 00:50:04+00:00</td>\n",
       "      <td>6</td>\n",
       "      <td>0</td>\n",
       "      <td>0 days 00:53:32</td>\n",
       "      <td>3212.0</td>\n",
       "      <td>53.533333</td>\n",
       "      <td>0.892222</td>\n",
       "    </tr>\n",
       "    <tr>\n",
       "      <th>FF1</th>\n",
       "      <td>2021-12-12 22:58:12+00:00</td>\n",
       "      <td>Crash Urgent</td>\n",
       "      <td>30.448448</td>\n",
       "      <td>-97.791588</td>\n",
       "      <td>9600-9617 Anderson Mill Rd</td>\n",
       "      <td>2021-12-13 01:05:04+00:00</td>\n",
       "      <td>6</td>\n",
       "      <td>0</td>\n",
       "      <td>0 days 02:06:52</td>\n",
       "      <td>7612.0</td>\n",
       "      <td>126.866667</td>\n",
       "      <td>2.114444</td>\n",
       "    </tr>\n",
       "    <tr>\n",
       "      <th>138</th>\n",
       "      <td>2021-12-12 23:07:15+00:00</td>\n",
       "      <td>Crash Urgent</td>\n",
       "      <td>30.169280</td>\n",
       "      <td>-97.795827</td>\n",
       "      <td>W Slaughter Ln &amp; Francia Trl</td>\n",
       "      <td>2021-12-13 01:15:03+00:00</td>\n",
       "      <td>6</td>\n",
       "      <td>0</td>\n",
       "      <td>0 days 02:07:48</td>\n",
       "      <td>7668.0</td>\n",
       "      <td>127.800000</td>\n",
       "      <td>2.130000</td>\n",
       "    </tr>\n",
       "    <tr>\n",
       "      <th>70B</th>\n",
       "      <td>2021-12-12 22:52:44+00:00</td>\n",
       "      <td>Crash Urgent</td>\n",
       "      <td>30.316565</td>\n",
       "      <td>-97.732267</td>\n",
       "      <td>4700-4750 W Guadalupe St</td>\n",
       "      <td>2021-12-13 01:50:03+00:00</td>\n",
       "      <td>6</td>\n",
       "      <td>0</td>\n",
       "      <td>0 days 02:57:19</td>\n",
       "      <td>10639.0</td>\n",
       "      <td>177.316667</td>\n",
       "      <td>2.955278</td>\n",
       "    </tr>\n",
       "  </tbody>\n",
       "</table>\n",
       "<p>20154 rows × 12 columns</p>\n",
       "</div>"
      ],
      "text/plain": [
       "                    published_date     issue_reported   Latitude  Longitude  \\\n",
       "short_ID                                                                      \n",
       "5E7      2020-04-17 21:44:39+00:00       Crash Urgent  30.353742 -97.690482   \n",
       "456      2020-04-21 10:45:58+00:00       VEHICLE FIRE  30.431001 -97.940508   \n",
       "FF3      2020-04-17 23:29:26+00:00      Crash Service  30.205068 -97.775196   \n",
       "2B6      2020-04-17 22:53:45+00:00       Crash Urgent  30.229962 -97.864551   \n",
       "23C      2020-10-28 23:47:11+00:00  COLLISN/ LVNG SCN  30.438657 -97.671975   \n",
       "...                            ...                ...        ...        ...   \n",
       "B33      2021-12-12 22:05:40+00:00      Crash Service  30.366005 -97.683512   \n",
       "2B3      2021-12-12 23:56:32+00:00      Crash Service  30.162182 -97.789085   \n",
       "FF1      2021-12-12 22:58:12+00:00       Crash Urgent  30.448448 -97.791588   \n",
       "138      2021-12-12 23:07:15+00:00       Crash Urgent  30.169280 -97.795827   \n",
       "70B      2021-12-12 22:52:44+00:00       Crash Urgent  30.316565 -97.732267   \n",
       "\n",
       "                                        Address               status_date  \\\n",
       "short_ID                                                                    \n",
       "5E7                        9001 N Ih 35 Svrd Nb 2020-04-18 00:05:28+00:00   \n",
       "456                             5973 Hi Line Rd 2020-04-22 03:20:04+00:00   \n",
       "FF3                           107 W STASSNEY LN 2020-04-18 00:00:05+00:00   \n",
       "2B6       W William Cannon Dr & Escarpment Blvd 2020-04-18 00:40:04+00:00   \n",
       "23C                        14600 Owen Tech Blvd 2020-10-29 00:05:03+00:00   \n",
       "...                                         ...                       ...   \n",
       "B33                       10100 N Ih 35 Svrd Sb 2021-12-13 00:35:03+00:00   \n",
       "2B3                        9500 S Ih 35 Svrd Sb 2021-12-13 00:50:04+00:00   \n",
       "FF1                  9600-9617 Anderson Mill Rd 2021-12-13 01:05:04+00:00   \n",
       "138                W Slaughter Ln & Francia Trl 2021-12-13 01:15:03+00:00   \n",
       "70B                    4700-4750 W Guadalupe St 2021-12-13 01:50:03+00:00   \n",
       "\n",
       "          published_day  status_day  issue_timespan  timespan_sec  \\\n",
       "short_ID                                                            \n",
       "5E7                   4           5 0 days 02:20:49        8449.0   \n",
       "456                   1           2 0 days 16:34:06       59646.0   \n",
       "FF3                   4           5 0 days 00:30:39        1839.0   \n",
       "2B6                   4           5 0 days 01:46:19        6379.0   \n",
       "23C                   2           3 0 days 00:17:52        1072.0   \n",
       "...                 ...         ...             ...           ...   \n",
       "B33                   6           0 0 days 02:29:23        8963.0   \n",
       "2B3                   6           0 0 days 00:53:32        3212.0   \n",
       "FF1                   6           0 0 days 02:06:52        7612.0   \n",
       "138                   6           0 0 days 02:07:48        7668.0   \n",
       "70B                   6           0 0 days 02:57:19       10639.0   \n",
       "\n",
       "          timespan_min  timespan_hrs  \n",
       "short_ID                              \n",
       "5E7         140.816667      2.346944  \n",
       "456         994.100000     16.568333  \n",
       "FF3          30.650000      0.510833  \n",
       "2B6         106.316667      1.771944  \n",
       "23C          17.866667      0.297778  \n",
       "...                ...           ...  \n",
       "B33         149.383333      2.489722  \n",
       "2B3          53.533333      0.892222  \n",
       "FF1         126.866667      2.114444  \n",
       "138         127.800000      2.130000  \n",
       "70B         177.316667      2.955278  \n",
       "\n",
       "[20154 rows x 12 columns]"
      ]
     },
     "execution_count": 220,
     "metadata": {},
     "output_type": "execute_result"
    }
   ],
   "source": [
    "df.loc[~(df['published_day'] == df['status_day'])]"
   ]
  },
  {
   "cell_type": "markdown",
   "id": "d47a6e7d",
   "metadata": {},
   "source": [
    "#### The number was not insignificant."
   ]
  },
  {
   "cell_type": "markdown",
   "id": "973d9d92",
   "metadata": {},
   "source": [
    "df.drop('issue_reported_value', axis=1, inplace=True)\n",
    "#I'm dropping this column as it has no values.\n",
    "df.head(2)"
   ]
  },
  {
   "cell_type": "markdown",
   "id": "5bb5285b",
   "metadata": {},
   "source": [
    "# Exploratory Data Analysis"
   ]
  },
  {
   "cell_type": "markdown",
   "id": "55424372",
   "metadata": {},
   "source": [
    "#### We can deduce that it is impossible to have a negative timespan when it come to traffic issues being resolved.\n",
    "##### We can call the .abs() function to solve this issue."
   ]
  },
  {
   "cell_type": "code",
   "execution_count": 226,
   "id": "b0abe6a8",
   "metadata": {},
   "outputs": [],
   "source": [
    "df.timespan_hrs = df['timespan_hrs'].abs()"
   ]
  },
  {
   "cell_type": "code",
   "execution_count": 231,
   "id": "06da2f37",
   "metadata": {},
   "outputs": [
    {
     "data": {
      "image/png": "[encoded data removed]",
      "text/plain": [
       "<Figure size 432x288 with 1 Axes>"
      ]
     },
     "metadata": {
      "needs_background": "light"
     },
     "output_type": "display_data"
    }
   ],
   "source": [
    "df.timespan_hrs[df.timespan_hrs < 64].hist(bins=16)\n",
    "plt.xlabel('Issue Timespan in Hours')\n",
    "plt.ylabel('Issues')\n",
    "plt.title('Distribution of Issue Timespan');"
   ]
  },
  {
   "cell_type": "markdown",
   "id": "562df67f",
   "metadata": {},
   "source": [
    "Most of the data points lie within 10 hours, and even that may be too generous based on the graph above."
   ]
  },
  {
   "cell_type": "code",
   "execution_count": null,
   "id": "5977c543",
   "metadata": {},
   "outputs": [],
   "source": [
    "#### This is a very high average, something is not right."
   ]
  },
  {
   "cell_type": "code",
   "execution_count": 232,
   "id": "d4b52486",
   "metadata": {
    "scrolled": false
   },
   "outputs": [
    {
     "data": {
      "image/png": "[encoded data removed]",
      "text/plain": [
       "<Figure size 432x288 with 1 Axes>"
      ]
     },
     "metadata": {
      "needs_background": "light"
     },
     "output_type": "display_data"
    }
   ],
   "source": [
    "df.timespan_hrs[df.timespan_hrs < 8].hist(bins=16)\n",
    "plt.xlabel('Issue Timespan in Hours')\n",
    "plt.ylabel('Issues')\n",
    "plt.title('Distribution of Issue Timespan');"
   ]
  },
  {
   "cell_type": "markdown",
   "id": "bf6ff163",
   "metadata": {},
   "source": [
    "The timespan data paints a better picture within an 8 hour timeframe. Hense, I will focus on the first eight hours."
   ]
  },
  {
   "cell_type": "code",
   "execution_count": 234,
   "id": "ceb2513e",
   "metadata": {},
   "outputs": [
    {
     "data": {
      "text/plain": [
       "(244652, 12)"
      ]
     },
     "execution_count": 234,
     "metadata": {},
     "output_type": "execute_result"
    }
   ],
   "source": [
    "df = df[df.timespan_hrs < 8.0]\n",
    "df.shape"
   ]
  },
  {
   "cell_type": "code",
   "execution_count": 235,
   "id": "8f9f4338",
   "metadata": {},
   "outputs": [
    {
     "name": "stdout",
     "output_type": "stream",
     "text": [
      "0 days 01:12:36.557469385\n"
     ]
    },
    {
     "data": {
      "text/plain": [
       "4356.557469"
      ]
     },
     "execution_count": 235,
     "metadata": {},
     "output_type": "execute_result"
    }
   ],
   "source": [
    "avg_mean = df['issue_timespan'].mean()\n",
    "print(avg_mean)\n",
    "avg_mean.total_seconds()"
   ]
  },
  {
   "cell_type": "markdown",
   "id": "a98f622a",
   "metadata": {},
   "source": [
    "The average issue timespan is a little over 1 hour. "
   ]
  },
  {
   "cell_type": "code",
   "execution_count": 237,
   "id": "cf6cdc2a",
   "metadata": {},
   "outputs": [
    {
     "name": "stdout",
     "output_type": "stream",
     "text": [
      "0 days 00:00:20\n"
     ]
    },
    {
     "data": {
      "text/plain": [
       "20.0"
      ]
     },
     "execution_count": 237,
     "metadata": {},
     "output_type": "execute_result"
    }
   ],
   "source": [
    "min_span = df['issue_timespan'].min()\n",
    "print(min_span)\n",
    "min_span.total_seconds()"
   ]
  },
  {
   "cell_type": "markdown",
   "id": "2ff5cd49",
   "metadata": {},
   "source": [
    "The minimum amount of time to resolve a traffic issue was 20 seconds"
   ]
  },
  {
   "cell_type": "code",
   "execution_count": 238,
   "id": "b6cf1fb6",
   "metadata": {},
   "outputs": [
    {
     "name": "stdout",
     "output_type": "stream",
     "text": [
      "0 days 07:59:44\n"
     ]
    },
    {
     "data": {
      "text/plain": [
       "28784.0"
      ]
     },
     "execution_count": 238,
     "metadata": {},
     "output_type": "execute_result"
    }
   ],
   "source": [
    "max_span = df['issue_timespan'].max()\n",
    "print(max_span)\n",
    "max_span.total_seconds()"
   ]
  },
  {
   "cell_type": "markdown",
   "id": "ec9e65cf",
   "metadata": {},
   "source": [
    "The maximum time spent resolving a traffic issue is 7:59:44"
   ]
  },
  {
   "cell_type": "code",
   "execution_count": 151,
   "id": "7758a38d",
   "metadata": {},
   "outputs": [
    {
     "data": {
      "image/png": "[encoded data removed]",
      "text/plain": [
       "<Figure size 432x288 with 1 Axes>"
      ]
     },
     "metadata": {
      "needs_background": "light"
     },
     "output_type": "display_data"
    }
   ],
   "source": [
    "df.timespan_hrs[df.timespan_hrs < 4].hist(bins=16)\n",
    "plt.xlabel('Issue Timespan in Hours')\n",
    "plt.ylabel('Issues')\n",
    "plt.title('Distribution of Issue Timespan Less Than 4 Hours');\n"
   ]
  },
  {
   "cell_type": "markdown",
   "id": "00d43100",
   "metadata": {},
   "source": [
    "This plot shows the average timespan of a given issue in hours. As you can see most issues are resolved in less than\n",
    "half an hour (0.5 hours). Issues that take over 1 1/2 hours are relatively small in number compared to those that take less than that amount of time."
   ]
  },
  {
   "cell_type": "code",
   "execution_count": 153,
   "id": "3b4d05c4",
   "metadata": {},
   "outputs": [
    {
     "data": {
      "image/png": "[encoded data removed]",
      "text/plain": [
       "<Figure size 432x288 with 1 Axes>"
      ]
     },
     "metadata": {
      "needs_background": "light"
     },
     "output_type": "display_data"
    }
   ],
   "source": [
    "df.timespan_min[df.timespan_min < 200].hist(bins=8)\n",
    "plt.xlabel('Issue Timespan in Minutes')\n",
    "plt.ylabel('Issues')\n",
    "plt.title('Distribution of Issue Timespan Less Than 200 minutes');"
   ]
  },
  {
   "cell_type": "markdown",
   "id": "3c749971",
   "metadata": {},
   "source": [
    "I double checked using time in minutes to make sure that the pattern stayed the same, and it did. "
   ]
  },
  {
   "cell_type": "code",
   "execution_count": 131,
   "id": "5cb4b1af",
   "metadata": {},
   "outputs": [
    {
     "data": {
      "image/png": "[encoded data removed]",
      "text/plain": [
       "<Figure size 432x288 with 1 Axes>"
      ]
     },
     "metadata": {
      "needs_background": "light"
     },
     "output_type": "display_data"
    }
   ],
   "source": [
    "df.published_day.hist(bins=20)\n",
    "plt.xlabel('Day of Week')\n",
    "plt.ylabel('Proportions')\n",
    "plt.title('Distribution of Reported Issue Day of Week');"
   ]
  },
  {
   "cell_type": "markdown",
   "id": "5e13190d",
   "metadata": {},
   "source": [
    "##Plot Key \n",
    "- 0 = Monday  \n",
    "- 1 = Tuesday\n",
    "- 2 = Wednesday\n",
    "- 3 = Thursday\n",
    "- 4 = Friday\n",
    "- 5 = Saturday\n",
    "- 6 = Sunday\n",
    "\n",
    "\n",
    "We can see that the highest instances of traffic incidents happen of Friday, which is to be expected due to a lively nightlife. Conversely, Sunday has the least amount of incidents as most people are resting and preparing for the work week.\n",
    "\n",
    "Monday and Tuesday hold steady at around 35,0000\n",
    "Wednesday and Thursday there is a slight increase to around 37,000\n",
    "Saturday has less instances than weekdays at about 33,000"
   ]
  },
  {
   "cell_type": "markdown",
   "id": "19042ec9",
   "metadata": {},
   "source": [
    "# Volume of Unique Issues Reported Over 100"
   ]
  },
  {
   "cell_type": "code",
   "execution_count": 244,
   "id": "9d7f5abf",
   "metadata": {},
   "outputs": [
    {
     "data": {
      "text/plain": [
       "(244340, 12)"
      ]
     },
     "execution_count": 244,
     "metadata": {},
     "output_type": "execute_result"
    }
   ],
   "source": [
    "df = df.groupby('issue_reported').filter(lambda x : len(x)>100)\n",
    "df.shape"
   ]
  },
  {
   "cell_type": "code",
   "execution_count": 245,
   "id": "51186cfb",
   "metadata": {
    "scrolled": true
   },
   "outputs": [
    {
     "data": {
      "text/plain": [
       "Traffic Hazard                75853\n",
       "Crash Urgent                  57455\n",
       "Crash Service                 36396\n",
       "COLLISION                     21571\n",
       "TRFC HAZD/ DEBRIS             17332\n",
       "zSTALLED VEHICLE               8759\n",
       "LOOSE LIVESTOCK                5923\n",
       "Traffic Impediment             5879\n",
       "COLLISION WITH INJURY          5861\n",
       "COLLISN/ LVNG SCN              4214\n",
       "Stalled Vehicle                2842\n",
       "COLLISION/PRIVATE PROPERTY      955\n",
       "VEHICLE FIRE                    800\n",
       "BLOCKED DRIV/ HWY               500\n",
       "Name: issue_reported, dtype: int64"
      ]
     },
     "execution_count": 245,
     "metadata": {},
     "output_type": "execute_result"
    }
   ],
   "source": [
    "df['issue_reported'].value_counts()\n"
   ]
  },
  {
   "cell_type": "markdown",
   "id": "434f5b56",
   "metadata": {},
   "source": [
    "Unsure about the meaning of some of these headings mean but it may be worth looking at the average timespan of each unique issue. This list shows issues that ocurred at least 500 times."
   ]
  },
  {
   "cell_type": "markdown",
   "id": "75207b7e",
   "metadata": {},
   "source": [
    "## Visualizing the Volume of Issues Reported"
   ]
  },
  {
   "cell_type": "code",
   "execution_count": 253,
   "id": "8f0648d1",
   "metadata": {},
   "outputs": [
    {
     "data": {
      "image/png": "[encoded data removed]",
      "text/plain": [
       "<Figure size 432x288 with 1 Axes>"
      ]
     },
     "metadata": {
      "needs_background": "light"
     },
     "output_type": "display_data"
    }
   ],
   "source": [
    "issue_counts = df['issue_reported'].value_counts()\n",
    "issue_counts.plot( rot=90)\n",
    "plt.xlabel(\"Report Issues by Group\")\n",
    "plt.ylabel(\"Proportions\")\n",
    "plt.title('Volume of Issues Reported')\n",
    "plt.show()"
   ]
  },
  {
   "cell_type": "markdown",
   "id": "8e82448a",
   "metadata": {},
   "source": [
    "This is a visual representation of incident volume. Traffic Hazard happen by far the most, while highway obstruction ocurrs the least."
   ]
  },
  {
   "cell_type": "code",
   "execution_count": 254,
   "id": "59909560",
   "metadata": {},
   "outputs": [],
   "source": [
    "#df.issue_reported.hist(figsize=(35,20))\n",
    "#plt.xticks(fontsize = 20, rotation=45)\n",
    "#plt.yticks(fontsize = 20)\n",
    "#plt.show()\n"
   ]
  },
  {
   "cell_type": "markdown",
   "id": "495f54c5",
   "metadata": {},
   "source": [
    "#The histograph above includes issues that we too sparse to be part of the initial line plot. As one can see, traffic #impediment barely happens and we know \n",
    "\n"
   ]
  },
  {
   "cell_type": "code",
   "execution_count": 136,
   "id": "d4b79898",
   "metadata": {},
   "outputs": [],
   "source": [
    "#df.plot.line(x='timespan_min', y='issue_reported')\n",
    "#Why doesn't this work?"
   ]
  },
  {
   "cell_type": "code",
   "execution_count": null,
   "id": "959f7dfe",
   "metadata": {},
   "outputs": [],
   "source": []
  },
  {
   "cell_type": "markdown",
   "id": "af128593",
   "metadata": {},
   "source": [
    "I wanted to see how many rows had different published/status days. I was considering dropping the rows if the \n",
    "instances were low. They were not. I will essentially just be using the published day for most of the anaysis."
   ]
  },
  {
   "cell_type": "markdown",
   "id": "96e42f20",
   "metadata": {},
   "source": [
    "The next thing I need to do is take latitude and logitude and put them in a scatter plot over a map."
   ]
  },
  {
   "cell_type": "code",
   "execution_count": null,
   "id": "80048cca",
   "metadata": {},
   "outputs": [],
   "source": []
  },
  {
   "cell_type": "markdown",
   "id": "42dbcb1f",
   "metadata": {},
   "source": [
    "There are many 'Latitude' and some 'Logitude' null values so I tried splitting the 'Location' column into two different strings and converting them to numbers. This resulted in even more null values so I scrapped the idea."
   ]
  },
  {
   "cell_type": "code",
   "execution_count": 39,
   "id": "c05cd9c6",
   "metadata": {},
   "outputs": [],
   "source": []
  },
  {
   "cell_type": "code",
   "execution_count": 41,
   "id": "7209bae0",
   "metadata": {},
   "outputs": [],
   "source": []
  },
  {
   "cell_type": "code",
   "execution_count": null,
   "id": "6c099c8c",
   "metadata": {},
   "outputs": [],
   "source": []
  },
  {
   "cell_type": "code",
   "execution_count": 90,
   "id": "c891c65e",
   "metadata": {},
   "outputs": [],
   "source": [
    "\n"
   ]
  },
  {
   "cell_type": "code",
   "execution_count": 91,
   "id": "b69c669e",
   "metadata": {},
   "outputs": [],
   "source": []
  },
  {
   "cell_type": "code",
   "execution_count": 92,
   "id": "0ec54428",
   "metadata": {},
   "outputs": [],
   "source": []
  },
  {
   "cell_type": "code",
   "execution_count": 79,
   "id": "8eea41c8",
   "metadata": {},
   "outputs": [],
   "source": []
  },
  {
   "cell_type": "code",
   "execution_count": null,
   "id": "1b2b150f",
   "metadata": {},
   "outputs": [],
   "source": []
  }
 ],
 "metadata": {
  "kernelspec": {
   "display_name": "Python 3",
   "language": "python",
   "name": "python3"
  },
  "language_info": {
   "codemirror_mode": {
    "name": "ipython",
    "version": 3
   },
   "file_extension": ".py",
   "mimetype": "text/x-python",
   "name": "python",
   "nbconvert_exporter": "python",
   "pygments_lexer": "ipython3",
   "version": "3.8.8"
  }
 },
 "nbformat": 4,
 "nbformat_minor": 5
}
